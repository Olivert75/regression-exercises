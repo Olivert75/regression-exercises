{
 "cells": [
  {
   "cell_type": "code",
   "execution_count": 2,
   "id": "cd1ac45b-523b-4018-850b-9577f681a149",
   "metadata": {},
   "outputs": [],
   "source": [
    "import warnings\n",
    "warnings.filterwarnings(\"ignore\")\n",
    "\n",
    "import pandas as pd\n",
    "import matplotlib.pyplot as plt\n",
    "import seaborn as sns\n",
    "import numpy as np\n",
    "from sklearn.model_selection import train_test_split\n",
    "\n",
    "#import my modules\n",
    "import acquire \n",
    "import wrangle"
   ]
  },
  {
   "cell_type": "markdown",
   "id": "09574765-9452-4aa9-9e9f-e88bde33dbd9",
   "metadata": {},
   "source": [
    "Let's set up an example scenario as perspective for our regression exercises using the Zillow dataset.\n",
    "\n",
    "As a Codeup data science graduate, you want to show off your skills to the Zillow data science team in hopes of getting an interview for a position you saw pop up on LinkedIn. You thought it might look impressive to build an end-to-end project in which you use some of their Kaggle data to predict property values using some of their available features; who knows, you might even do some feature engineering to blow them away. Your goal is to predict the values of single unit properties using the obervations from 2017.\n",
    "\n",
    "In these exercises, you will complete the first step toward the above goal: acquire and prepare the necessary Zillow data from the zillow database in the Codeup database server.\n",
    "\n"
   ]
  },
  {
   "cell_type": "markdown",
   "id": "a5491d74-c7c2-4112-95d6-6b07e9332d82",
   "metadata": {},
   "source": [
    "Acquire bedroomcnt, bathroomcnt, calculatedfinishedsquarefeet, taxvaluedollarcnt, yearbuilt, taxamount, and fips from the zillow database for all 'Single Family Residential' properties."
   ]
  },
  {
   "cell_type": "code",
   "execution_count": 3,
   "id": "4f8b09c9-0dc4-40db-bcb5-fec9dcc389cf",
   "metadata": {},
   "outputs": [],
   "source": [
    "zillow_df= acquire.get_new_zillow()"
   ]
  },
  {
   "cell_type": "code",
   "execution_count": 4,
   "id": "31afb4d7-f931-401b-879b-e8119011dcaa",
   "metadata": {},
   "outputs": [
    {
     "data": {
      "text/html": [
       "<div>\n",
       "<style scoped>\n",
       "    .dataframe tbody tr th:only-of-type {\n",
       "        vertical-align: middle;\n",
       "    }\n",
       "\n",
       "    .dataframe tbody tr th {\n",
       "        vertical-align: top;\n",
       "    }\n",
       "\n",
       "    .dataframe thead th {\n",
       "        text-align: right;\n",
       "    }\n",
       "</style>\n",
       "<table border=\"1\" class=\"dataframe\">\n",
       "  <thead>\n",
       "    <tr style=\"text-align: right;\">\n",
       "      <th></th>\n",
       "      <th>bedroomcnt</th>\n",
       "      <th>bathroomcnt</th>\n",
       "      <th>calculatedfinishedsquarefeet</th>\n",
       "      <th>taxvaluedollarcnt</th>\n",
       "      <th>yearbuilt</th>\n",
       "      <th>taxamount</th>\n",
       "      <th>fips</th>\n",
       "    </tr>\n",
       "  </thead>\n",
       "  <tbody>\n",
       "    <tr>\n",
       "      <th>0</th>\n",
       "      <td>0.0</td>\n",
       "      <td>0.0</td>\n",
       "      <td>NaN</td>\n",
       "      <td>27516.0</td>\n",
       "      <td>NaN</td>\n",
       "      <td>NaN</td>\n",
       "      <td>6037.0</td>\n",
       "    </tr>\n",
       "    <tr>\n",
       "      <th>1</th>\n",
       "      <td>0.0</td>\n",
       "      <td>0.0</td>\n",
       "      <td>NaN</td>\n",
       "      <td>10.0</td>\n",
       "      <td>NaN</td>\n",
       "      <td>NaN</td>\n",
       "      <td>6037.0</td>\n",
       "    </tr>\n",
       "    <tr>\n",
       "      <th>2</th>\n",
       "      <td>0.0</td>\n",
       "      <td>0.0</td>\n",
       "      <td>NaN</td>\n",
       "      <td>10.0</td>\n",
       "      <td>NaN</td>\n",
       "      <td>NaN</td>\n",
       "      <td>6037.0</td>\n",
       "    </tr>\n",
       "    <tr>\n",
       "      <th>3</th>\n",
       "      <td>0.0</td>\n",
       "      <td>0.0</td>\n",
       "      <td>NaN</td>\n",
       "      <td>2108.0</td>\n",
       "      <td>NaN</td>\n",
       "      <td>174.21</td>\n",
       "      <td>6037.0</td>\n",
       "    </tr>\n",
       "    <tr>\n",
       "      <th>4</th>\n",
       "      <td>4.0</td>\n",
       "      <td>2.0</td>\n",
       "      <td>3633.0</td>\n",
       "      <td>296425.0</td>\n",
       "      <td>2005.0</td>\n",
       "      <td>6941.39</td>\n",
       "      <td>6037.0</td>\n",
       "    </tr>\n",
       "  </tbody>\n",
       "</table>\n",
       "</div>"
      ],
      "text/plain": [
       "   bedroomcnt  bathroomcnt  calculatedfinishedsquarefeet  taxvaluedollarcnt  \\\n",
       "0         0.0          0.0                           NaN            27516.0   \n",
       "1         0.0          0.0                           NaN               10.0   \n",
       "2         0.0          0.0                           NaN               10.0   \n",
       "3         0.0          0.0                           NaN             2108.0   \n",
       "4         4.0          2.0                        3633.0           296425.0   \n",
       "\n",
       "   yearbuilt  taxamount    fips  \n",
       "0        NaN        NaN  6037.0  \n",
       "1        NaN        NaN  6037.0  \n",
       "2        NaN        NaN  6037.0  \n",
       "3        NaN     174.21  6037.0  \n",
       "4     2005.0    6941.39  6037.0  "
      ]
     },
     "execution_count": 4,
     "metadata": {},
     "output_type": "execute_result"
    }
   ],
   "source": [
    "zillow_df.head()"
   ]
  },
  {
   "cell_type": "code",
   "execution_count": 5,
   "id": "10439816-54e7-4296-a5fc-37652bad408a",
   "metadata": {},
   "outputs": [
    {
     "name": "stdout",
     "output_type": "stream",
     "text": [
      "<class 'pandas.core.frame.DataFrame'>\n",
      "RangeIndex: 2152863 entries, 0 to 2152862\n",
      "Data columns (total 7 columns):\n",
      " #   Column                        Non-Null Count    Dtype  \n",
      "---  ------                        --------------    -----  \n",
      " 0   bedroomcnt                    2152852 non-null  float64\n",
      " 1   bathroomcnt                   2152852 non-null  float64\n",
      " 2   calculatedfinishedsquarefeet  2144379 non-null  float64\n",
      " 3   taxvaluedollarcnt             2152370 non-null  float64\n",
      " 4   yearbuilt                     2143526 non-null  float64\n",
      " 5   taxamount                     2148421 non-null  float64\n",
      " 6   fips                          2152863 non-null  float64\n",
      "dtypes: float64(7)\n",
      "memory usage: 115.0 MB\n"
     ]
    }
   ],
   "source": [
    "zillow_df.info(null_counts=True)"
   ]
  },
  {
   "cell_type": "markdown",
   "id": "f3576fec-e8da-4301-8256-7e05eaca55fc",
   "metadata": {},
   "source": [
    "Using your acquired Zillow data, walk through the summarization and cleaning steps in your wrangle.ipynb file like we did above. You may handle the missing values however you feel is appropriate and meaninful; remember to document your process and decisions using markdown and code commenting where helpful."
   ]
  },
  {
   "cell_type": "code",
   "execution_count": 6,
   "id": "c4906cde-4f8b-4298-a40c-f39c584812db",
   "metadata": {},
   "outputs": [],
   "source": [
    "def miss_dup_values(df):\n",
    "    '''\n",
    "    this function takes a dataframe as input and will output metrics for missing values and duplicated rows, \n",
    "    and the percent of that column that has missing values and duplicated rows\n",
    "    '''\n",
    "        # Total missing values\n",
    "    mis_val = df.isnull().sum()\n",
    "        # Percentage of missing values\n",
    "    mis_val_percent = 100 * df.isnull().sum() / len(df)\n",
    "        #total of duplicated\n",
    "    dup = df.duplicated().sum()  \n",
    "        # Percentage of missing values\n",
    "    dup_percent = 100 * dup / len(df)\n",
    "        # Make a table with the results\n",
    "    mis_val_table = pd.concat([mis_val, mis_val_percent], axis=1)\n",
    "        # Rename the columns\n",
    "    mis_val_table_ren_columns = mis_val_table.rename(columns = {0 : 'Missing Values', 1 : '% of Total Values'})\n",
    "        # Sort the table by percentage of missing descending\n",
    "    mis_val_table_ren_columns = mis_val_table_ren_columns[\n",
    "    mis_val_table_ren_columns.iloc[:,1] != 0].sort_values('% of Total Values', ascending=False).round(1)\n",
    "        # Print some summary information\n",
    "    print (\"Your selected dataframe has \" + str(df.shape[1]) + \" columns.\\n\"      \n",
    "           \"There are \" + str(mis_val_table_ren_columns.shape[0]) +\n",
    "           \" columns that have missing values.\")\n",
    "    print( \"  \")\n",
    "    print (f\"** There are {dup} duplicate rows that represents {round(dup_percent, 2)}% of total Values**\")\n",
    "        # Return the dataframe with missing information\n",
    "    return mis_val_table_ren_columns"
   ]
  },
  {
   "cell_type": "code",
   "execution_count": 7,
   "id": "37f4dd3f-ccaf-466d-b7a1-90adccedb602",
   "metadata": {},
   "outputs": [
    {
     "name": "stdout",
     "output_type": "stream",
     "text": [
      "Your selected dataframe has 7 columns.\n",
      "There are 6 columns that have missing values.\n",
      "  \n",
      "** There are 11644 duplicate rows that represents 0.54% of total Values**\n"
     ]
    },
    {
     "data": {
      "text/html": [
       "<div>\n",
       "<style scoped>\n",
       "    .dataframe tbody tr th:only-of-type {\n",
       "        vertical-align: middle;\n",
       "    }\n",
       "\n",
       "    .dataframe tbody tr th {\n",
       "        vertical-align: top;\n",
       "    }\n",
       "\n",
       "    .dataframe thead th {\n",
       "        text-align: right;\n",
       "    }\n",
       "</style>\n",
       "<table border=\"1\" class=\"dataframe\">\n",
       "  <thead>\n",
       "    <tr style=\"text-align: right;\">\n",
       "      <th></th>\n",
       "      <th>Missing Values</th>\n",
       "      <th>% of Total Values</th>\n",
       "    </tr>\n",
       "  </thead>\n",
       "  <tbody>\n",
       "    <tr>\n",
       "      <th>yearbuilt</th>\n",
       "      <td>9337</td>\n",
       "      <td>0.4</td>\n",
       "    </tr>\n",
       "    <tr>\n",
       "      <th>calculatedfinishedsquarefeet</th>\n",
       "      <td>8484</td>\n",
       "      <td>0.4</td>\n",
       "    </tr>\n",
       "    <tr>\n",
       "      <th>taxamount</th>\n",
       "      <td>4442</td>\n",
       "      <td>0.2</td>\n",
       "    </tr>\n",
       "    <tr>\n",
       "      <th>taxvaluedollarcnt</th>\n",
       "      <td>493</td>\n",
       "      <td>0.0</td>\n",
       "    </tr>\n",
       "    <tr>\n",
       "      <th>bedroomcnt</th>\n",
       "      <td>11</td>\n",
       "      <td>0.0</td>\n",
       "    </tr>\n",
       "    <tr>\n",
       "      <th>bathroomcnt</th>\n",
       "      <td>11</td>\n",
       "      <td>0.0</td>\n",
       "    </tr>\n",
       "  </tbody>\n",
       "</table>\n",
       "</div>"
      ],
      "text/plain": [
       "                              Missing Values  % of Total Values\n",
       "yearbuilt                               9337                0.4\n",
       "calculatedfinishedsquarefeet            8484                0.4\n",
       "taxamount                               4442                0.2\n",
       "taxvaluedollarcnt                        493                0.0\n",
       "bedroomcnt                                11                0.0\n",
       "bathroomcnt                               11                0.0"
      ]
     },
     "execution_count": 7,
     "metadata": {},
     "output_type": "execute_result"
    }
   ],
   "source": [
    "#using the function above\n",
    "miss_dup_values(zillow_df)"
   ]
  },
  {
   "cell_type": "code",
   "execution_count": 8,
   "id": "b3119361-e850-4318-9118-aa26ae8e9b93",
   "metadata": {},
   "outputs": [
    {
     "data": {
      "text/plain": [
       "19"
      ]
     },
     "execution_count": 8,
     "metadata": {},
     "output_type": "execute_result"
    }
   ],
   "source": [
    "zillow_df['bedroomcnt'].nunique()"
   ]
  },
  {
   "cell_type": "code",
   "execution_count": 9,
   "id": "1c507eb9-468e-4695-9067-2ac026de394e",
   "metadata": {},
   "outputs": [
    {
     "data": {
      "text/plain": [
       "0.0      13187\n",
       "1.0      23166\n",
       "2.0     335473\n",
       "3.0     964298\n",
       "4.0     634289\n",
       "5.0     150866\n",
       "6.0      25166\n",
       "7.0       4807\n",
       "8.0       1107\n",
       "9.0        291\n",
       "10.0       121\n",
       "11.0        34\n",
       "12.0        12\n",
       "13.0        16\n",
       "14.0         7\n",
       "15.0         6\n",
       "16.0         2\n",
       "18.0         3\n",
       "25.0         1\n",
       "Name: bedroomcnt, dtype: int64"
      ]
     },
     "execution_count": 9,
     "metadata": {},
     "output_type": "execute_result"
    }
   ],
   "source": [
    "zillow_df['bedroomcnt'].value_counts().sort_index()"
   ]
  },
  {
   "cell_type": "code",
   "execution_count": 10,
   "id": "ac30a876-c89f-4d61-a716-cef575e6cbac",
   "metadata": {},
   "outputs": [
    {
     "data": {
      "text/plain": [
       "(2141219, 7)"
      ]
     },
     "execution_count": 10,
     "metadata": {},
     "output_type": "execute_result"
    }
   ],
   "source": [
    "# drop duplicates\n",
    "zillow_df = zillow_df.drop_duplicates()\n",
    "zillow_df.shape"
   ]
  },
  {
   "cell_type": "code",
   "execution_count": 11,
   "id": "9b619013-0ad5-4e6a-af88-330ec52309f4",
   "metadata": {},
   "outputs": [],
   "source": [
    "#drop nulls\n",
    "zillow_df = zillow_df.dropna(how='any',axis=0)"
   ]
  },
  {
   "cell_type": "code",
   "execution_count": 13,
   "id": "2ef4dbf9-82f6-4051-ac44-c2e47dfe13fb",
   "metadata": {},
   "outputs": [
    {
     "data": {
      "text/plain": [
       "(2130214, 7)"
      ]
     },
     "execution_count": 13,
     "metadata": {},
     "output_type": "execute_result"
    }
   ],
   "source": [
    "#size after the drops null\n",
    "zillow_df.shape"
   ]
  },
  {
   "cell_type": "code",
   "execution_count": 14,
   "id": "20342b8e-ca3d-40bb-8f00-712f4362c722",
   "metadata": {},
   "outputs": [
    {
     "name": "stdout",
     "output_type": "stream",
     "text": [
      "<class 'pandas.core.frame.DataFrame'>\n",
      "Int64Index: 2130214 entries, 4 to 2152862\n",
      "Data columns (total 7 columns):\n",
      " #   Column                        Non-Null Count    Dtype  \n",
      "---  ------                        --------------    -----  \n",
      " 0   bedroomcnt                    2130214 non-null  float64\n",
      " 1   bathroomcnt                   2130214 non-null  float64\n",
      " 2   calculatedfinishedsquarefeet  2130214 non-null  float64\n",
      " 3   taxvaluedollarcnt             2130214 non-null  float64\n",
      " 4   yearbuilt                     2130214 non-null  float64\n",
      " 5   taxamount                     2130214 non-null  float64\n",
      " 6   fips                          2130214 non-null  float64\n",
      "dtypes: float64(7)\n",
      "memory usage: 130.0 MB\n"
     ]
    }
   ],
   "source": [
    "#confirm that we dond have nulls\n",
    "zillow_df.info(null_counts=True)"
   ]
  },
  {
   "cell_type": "code",
   "execution_count": 15,
   "id": "db8aabdb-eaaf-4c2f-90ca-30d92b782be8",
   "metadata": {},
   "outputs": [
    {
     "name": "stdout",
     "output_type": "stream",
     "text": [
      "bedroomcnt\n",
      "0.0       4259\n",
      "1.0      22713\n",
      "2.0     333208\n",
      "3.0     958078\n",
      "4.0     630289\n",
      "5.0     150194\n",
      "6.0      25092\n",
      "7.0       4791\n",
      "8.0       1103\n",
      "9.0        290\n",
      "10.0       118\n",
      "11.0        34\n",
      "12.0        12\n",
      "13.0        15\n",
      "14.0         7\n",
      "15.0         5\n",
      "16.0         2\n",
      "18.0         3\n",
      "25.0         1\n",
      "Name: bedroomcnt, dtype: int64\n",
      "bathroomcnt\n",
      "0.00       4199\n",
      "0.50         16\n",
      "1.00     411264\n",
      "1.50      30275\n",
      "1.75          3\n",
      "2.00     938213\n",
      "2.50     141089\n",
      "3.00     421066\n",
      "3.50      28286\n",
      "4.00      81903\n",
      "4.50      19396\n",
      "5.00      28299\n",
      "5.50       6174\n",
      "6.00      10717\n",
      "6.50       1330\n",
      "7.00       4381\n",
      "7.50        382\n",
      "8.00       1681\n",
      "8.50        108\n",
      "9.00        707\n",
      "9.50         50\n",
      "10.00       322\n",
      "10.50        14\n",
      "11.00       145\n",
      "11.50         3\n",
      "12.00        73\n",
      "Name: bathroomcnt, dtype: int64\n",
      "calculatedfinishedsquarefeet\n",
      "1.0      6\n",
      "2.0      2\n",
      "3.0      7\n",
      "7.0      1\n",
      "10.0     2\n",
      "12.0     1\n",
      "20.0    15\n",
      "30.0     3\n",
      "31.0     1\n",
      "32.0     1\n",
      "40.0     9\n",
      "43.0     1\n",
      "48.0     2\n",
      "54.0     1\n",
      "56.0     1\n",
      "60.0     8\n",
      "63.0     1\n",
      "64.0     1\n",
      "65.0     1\n",
      "66.0     1\n",
      "72.0     3\n",
      "76.0     1\n",
      "77.0     1\n",
      "78.0     1\n",
      "80.0     1\n",
      "90.0     1\n",
      "Name: calculatedfinishedsquarefeet, dtype: int64\n",
      "taxvaluedollarcnt\n",
      "22.0      8\n",
      "23.0      6\n",
      "31.0      1\n",
      "46.0      1\n",
      "101.0     1\n",
      "103.0     2\n",
      "104.0     2\n",
      "105.0     1\n",
      "106.0     2\n",
      "107.0     1\n",
      "200.0     1\n",
      "284.0     1\n",
      "340.0     1\n",
      "387.0     1\n",
      "549.0     1\n",
      "568.0     2\n",
      "722.0     1\n",
      "762.0     1\n",
      "834.0     1\n",
      "895.0     1\n",
      "1000.0    1\n",
      "1004.0    1\n",
      "1059.0    1\n",
      "1080.0    1\n",
      "1086.0    1\n",
      "1105.0    1\n",
      "Name: taxvaluedollarcnt, dtype: int64\n",
      "yearbuilt\n",
      "1801.0      3\n",
      "1807.0      1\n",
      "1812.0      2\n",
      "1823.0      1\n",
      "1833.0      1\n",
      "1840.0      1\n",
      "1855.0      1\n",
      "1862.0      1\n",
      "1865.0      2\n",
      "1870.0      3\n",
      "1874.0      1\n",
      "1875.0      9\n",
      "1876.0      2\n",
      "1877.0      1\n",
      "1878.0      2\n",
      "1879.0      1\n",
      "1880.0     39\n",
      "1881.0      4\n",
      "1882.0      6\n",
      "1883.0      8\n",
      "1884.0     13\n",
      "1885.0    169\n",
      "1886.0     33\n",
      "1887.0     77\n",
      "1888.0     86\n",
      "1889.0     30\n",
      "Name: yearbuilt, dtype: int64\n",
      "taxamount\n",
      "6.34     1\n",
      "13.36    1\n",
      "13.44    1\n",
      "13.47    2\n",
      "13.48    1\n",
      "13.49    1\n",
      "13.50    2\n",
      "13.51    1\n",
      "16.48    1\n",
      "18.38    1\n",
      "18.72    1\n",
      "20.24    5\n",
      "21.01    1\n",
      "24.78    2\n",
      "24.92    4\n",
      "24.99    1\n",
      "25.92    1\n",
      "27.01    1\n",
      "28.78    1\n",
      "29.14    1\n",
      "29.63    1\n",
      "32.95    1\n",
      "33.35    1\n",
      "33.77    1\n",
      "34.40    2\n",
      "34.47    2\n",
      "Name: taxamount, dtype: int64\n",
      "fips\n",
      "6037.0    1422505\n",
      "6059.0     546579\n",
      "6111.0     161130\n",
      "Name: fips, dtype: int64\n"
     ]
    }
   ],
   "source": [
    "cols = zillow_df.columns.to_list()\n",
    "for col in cols:\n",
    "    print(col)\n",
    "    print(zillow_df[col].value_counts().sort_index().head(26))"
   ]
  },
  {
   "cell_type": "code",
   "execution_count": 16,
   "id": "d55b4c55-c559-47a2-80b1-09e5e39add75",
   "metadata": {},
   "outputs": [],
   "source": [
    "#bedrooms, yearbuilt and fips can be converted to int\n",
    "zillow_df[['bedroomcnt', 'yearbuilt', 'fips']] = zillow_df[['bedroomcnt', 'yearbuilt', 'fips']].astype(int)"
   ]
  },
  {
   "cell_type": "code",
   "execution_count": 19,
   "id": "d314094f-9fce-4053-ad7f-b6c0ae0c18a8",
   "metadata": {},
   "outputs": [
    {
     "data": {
      "text/html": [
       "<div>\n",
       "<style scoped>\n",
       "    .dataframe tbody tr th:only-of-type {\n",
       "        vertical-align: middle;\n",
       "    }\n",
       "\n",
       "    .dataframe tbody tr th {\n",
       "        vertical-align: top;\n",
       "    }\n",
       "\n",
       "    .dataframe thead th {\n",
       "        text-align: right;\n",
       "    }\n",
       "</style>\n",
       "<table border=\"1\" class=\"dataframe\">\n",
       "  <thead>\n",
       "    <tr style=\"text-align: right;\">\n",
       "      <th></th>\n",
       "      <th>bedroomcnt</th>\n",
       "      <th>bathroomcnt</th>\n",
       "      <th>calculatedfinishedsquarefeet</th>\n",
       "      <th>taxvaluedollarcnt</th>\n",
       "      <th>yearbuilt</th>\n",
       "      <th>taxamount</th>\n",
       "      <th>fips</th>\n",
       "    </tr>\n",
       "  </thead>\n",
       "  <tbody>\n",
       "    <tr>\n",
       "      <th>58438</th>\n",
       "      <td>2</td>\n",
       "      <td>1.0</td>\n",
       "      <td>1.0</td>\n",
       "      <td>121376.0</td>\n",
       "      <td>1907</td>\n",
       "      <td>1996.35</td>\n",
       "      <td>6037</td>\n",
       "    </tr>\n",
       "    <tr>\n",
       "      <th>122963</th>\n",
       "      <td>2</td>\n",
       "      <td>2.0</td>\n",
       "      <td>3.0</td>\n",
       "      <td>584804.0</td>\n",
       "      <td>1955</td>\n",
       "      <td>6822.61</td>\n",
       "      <td>6037</td>\n",
       "    </tr>\n",
       "    <tr>\n",
       "      <th>402516</th>\n",
       "      <td>1</td>\n",
       "      <td>4.0</td>\n",
       "      <td>3.0</td>\n",
       "      <td>356717.0</td>\n",
       "      <td>1986</td>\n",
       "      <td>3840.63</td>\n",
       "      <td>6037</td>\n",
       "    </tr>\n",
       "    <tr>\n",
       "      <th>584383</th>\n",
       "      <td>5</td>\n",
       "      <td>2.0</td>\n",
       "      <td>3.0</td>\n",
       "      <td>139441.0</td>\n",
       "      <td>1958</td>\n",
       "      <td>1676.86</td>\n",
       "      <td>6037</td>\n",
       "    </tr>\n",
       "    <tr>\n",
       "      <th>587783</th>\n",
       "      <td>4</td>\n",
       "      <td>3.0</td>\n",
       "      <td>2.0</td>\n",
       "      <td>1219502.0</td>\n",
       "      <td>1952</td>\n",
       "      <td>14299.74</td>\n",
       "      <td>6037</td>\n",
       "    </tr>\n",
       "    <tr>\n",
       "      <th>683031</th>\n",
       "      <td>2</td>\n",
       "      <td>3.0</td>\n",
       "      <td>3.0</td>\n",
       "      <td>981300.0</td>\n",
       "      <td>1950</td>\n",
       "      <td>10657.81</td>\n",
       "      <td>6037</td>\n",
       "    </tr>\n",
       "    <tr>\n",
       "      <th>724785</th>\n",
       "      <td>5</td>\n",
       "      <td>7.0</td>\n",
       "      <td>7.0</td>\n",
       "      <td>1653839.0</td>\n",
       "      <td>1925</td>\n",
       "      <td>20140.20</td>\n",
       "      <td>6037</td>\n",
       "    </tr>\n",
       "    <tr>\n",
       "      <th>821592</th>\n",
       "      <td>1</td>\n",
       "      <td>4.0</td>\n",
       "      <td>3.0</td>\n",
       "      <td>1827450.0</td>\n",
       "      <td>1991</td>\n",
       "      <td>22011.62</td>\n",
       "      <td>6037</td>\n",
       "    </tr>\n",
       "    <tr>\n",
       "      <th>1046787</th>\n",
       "      <td>0</td>\n",
       "      <td>0.0</td>\n",
       "      <td>1.0</td>\n",
       "      <td>28091.0</td>\n",
       "      <td>1963</td>\n",
       "      <td>439.55</td>\n",
       "      <td>6037</td>\n",
       "    </tr>\n",
       "    <tr>\n",
       "      <th>1276353</th>\n",
       "      <td>1</td>\n",
       "      <td>3.0</td>\n",
       "      <td>1.0</td>\n",
       "      <td>124906.0</td>\n",
       "      <td>1953</td>\n",
       "      <td>2020.66</td>\n",
       "      <td>6037</td>\n",
       "    </tr>\n",
       "    <tr>\n",
       "      <th>1359288</th>\n",
       "      <td>2</td>\n",
       "      <td>1.0</td>\n",
       "      <td>1.0</td>\n",
       "      <td>147577.0</td>\n",
       "      <td>1991</td>\n",
       "      <td>1855.40</td>\n",
       "      <td>6037</td>\n",
       "    </tr>\n",
       "    <tr>\n",
       "      <th>1428481</th>\n",
       "      <td>3</td>\n",
       "      <td>3.0</td>\n",
       "      <td>3.0</td>\n",
       "      <td>208783.0</td>\n",
       "      <td>1941</td>\n",
       "      <td>3239.09</td>\n",
       "      <td>6037</td>\n",
       "    </tr>\n",
       "    <tr>\n",
       "      <th>1686621</th>\n",
       "      <td>3</td>\n",
       "      <td>2.0</td>\n",
       "      <td>2.0</td>\n",
       "      <td>170416.0</td>\n",
       "      <td>1959</td>\n",
       "      <td>2774.43</td>\n",
       "      <td>6037</td>\n",
       "    </tr>\n",
       "    <tr>\n",
       "      <th>1895866</th>\n",
       "      <td>5</td>\n",
       "      <td>5.0</td>\n",
       "      <td>1.0</td>\n",
       "      <td>563977.0</td>\n",
       "      <td>1997</td>\n",
       "      <td>6808.84</td>\n",
       "      <td>6037</td>\n",
       "    </tr>\n",
       "    <tr>\n",
       "      <th>1963976</th>\n",
       "      <td>3</td>\n",
       "      <td>2.0</td>\n",
       "      <td>3.0</td>\n",
       "      <td>183907.0</td>\n",
       "      <td>1952</td>\n",
       "      <td>2328.31</td>\n",
       "      <td>6037</td>\n",
       "    </tr>\n",
       "    <tr>\n",
       "      <th>2017745</th>\n",
       "      <td>3</td>\n",
       "      <td>1.0</td>\n",
       "      <td>1.0</td>\n",
       "      <td>31800.0</td>\n",
       "      <td>1900</td>\n",
       "      <td>870.36</td>\n",
       "      <td>6037</td>\n",
       "    </tr>\n",
       "  </tbody>\n",
       "</table>\n",
       "</div>"
      ],
      "text/plain": [
       "         bedroomcnt  bathroomcnt  calculatedfinishedsquarefeet  \\\n",
       "58438             2          1.0                           1.0   \n",
       "122963            2          2.0                           3.0   \n",
       "402516            1          4.0                           3.0   \n",
       "584383            5          2.0                           3.0   \n",
       "587783            4          3.0                           2.0   \n",
       "683031            2          3.0                           3.0   \n",
       "724785            5          7.0                           7.0   \n",
       "821592            1          4.0                           3.0   \n",
       "1046787           0          0.0                           1.0   \n",
       "1276353           1          3.0                           1.0   \n",
       "1359288           2          1.0                           1.0   \n",
       "1428481           3          3.0                           3.0   \n",
       "1686621           3          2.0                           2.0   \n",
       "1895866           5          5.0                           1.0   \n",
       "1963976           3          2.0                           3.0   \n",
       "2017745           3          1.0                           1.0   \n",
       "\n",
       "         taxvaluedollarcnt  yearbuilt  taxamount  fips  \n",
       "58438             121376.0       1907    1996.35  6037  \n",
       "122963            584804.0       1955    6822.61  6037  \n",
       "402516            356717.0       1986    3840.63  6037  \n",
       "584383            139441.0       1958    1676.86  6037  \n",
       "587783           1219502.0       1952   14299.74  6037  \n",
       "683031            981300.0       1950   10657.81  6037  \n",
       "724785           1653839.0       1925   20140.20  6037  \n",
       "821592           1827450.0       1991   22011.62  6037  \n",
       "1046787            28091.0       1963     439.55  6037  \n",
       "1276353           124906.0       1953    2020.66  6037  \n",
       "1359288           147577.0       1991    1855.40  6037  \n",
       "1428481           208783.0       1941    3239.09  6037  \n",
       "1686621           170416.0       1959    2774.43  6037  \n",
       "1895866           563977.0       1997    6808.84  6037  \n",
       "1963976           183907.0       1952    2328.31  6037  \n",
       "2017745            31800.0       1900     870.36  6037  "
      ]
     },
     "execution_count": 19,
     "metadata": {},
     "output_type": "execute_result"
    }
   ],
   "source": [
    "#a house with more that one bedroom and has less than 10 squarefeet????\n",
    "zillow_df[zillow_df.calculatedfinishedsquarefeet < 10]"
   ]
  },
  {
   "cell_type": "code",
   "execution_count": 20,
   "id": "08698abd-1059-4910-a459-9a26be7406f9",
   "metadata": {},
   "outputs": [
    {
     "data": {
      "text/plain": [
       "bedroomcnt                      4736\n",
       "bathroomcnt                     4736\n",
       "calculatedfinishedsquarefeet    4736\n",
       "taxvaluedollarcnt               4736\n",
       "yearbuilt                       4736\n",
       "taxamount                       4736\n",
       "fips                            4736\n",
       "dtype: int64"
      ]
     },
     "execution_count": 20,
     "metadata": {},
     "output_type": "execute_result"
    }
   ],
   "source": [
    "zillow_df[zillow_df.calculatedfinishedsquarefeet < 500].count()"
   ]
  },
  {
   "cell_type": "code",
   "execution_count": 21,
   "id": "7d548468-0936-42f4-8a61-d5dca26e8f9b",
   "metadata": {},
   "outputs": [
    {
     "data": {
      "text/plain": [
       "bedroomcnt                      3271\n",
       "bathroomcnt                     3271\n",
       "calculatedfinishedsquarefeet    3271\n",
       "taxvaluedollarcnt               3271\n",
       "yearbuilt                       3271\n",
       "taxamount                       3271\n",
       "fips                            3271\n",
       "dtype: int64"
      ]
     },
     "execution_count": 21,
     "metadata": {},
     "output_type": "execute_result"
    }
   ],
   "source": [
    "zillow_df[(zillow_df.bedroomcnt == 0) & (zillow_df.bathroomcnt == 0)].count()"
   ]
  },
  {
   "cell_type": "code",
   "execution_count": 22,
   "id": "2dfd89f0-a9a0-4b8d-9562-7758d412cc6e",
   "metadata": {},
   "outputs": [],
   "source": [
    "#get the index to drop the rows\n",
    "ind = list(zillow_df[(zillow_df.bedroomcnt == 0) & (zillow_df.bathroomcnt == 0)].index)"
   ]
  },
  {
   "cell_type": "code",
   "execution_count": 24,
   "id": "7f12de10-d684-4509-9852-f7449616ca3c",
   "metadata": {},
   "outputs": [
    {
     "data": {
      "text/plain": [
       "0.0015355264776214972"
      ]
     },
     "execution_count": 24,
     "metadata": {},
     "output_type": "execute_result"
    }
   ],
   "source": [
    "3271 / zillow_df.shape[0]"
   ]
  },
  {
   "cell_type": "code",
   "execution_count": 25,
   "id": "503959f1-3659-4e77-8db4-66070c81cf56",
   "metadata": {},
   "outputs": [],
   "source": [
    "#drop\n",
    "zillow_df.drop(ind, axis=0, inplace= True)"
   ]
  },
  {
   "cell_type": "code",
   "execution_count": 26,
   "id": "d6aaf999-f9bc-428e-b5a7-5532d0ef9951",
   "metadata": {},
   "outputs": [
    {
     "data": {
      "text/plain": [
       "6037    1419556\n",
       "6059     546326\n",
       "6111     161061\n",
       "Name: fips, dtype: int64"
      ]
     },
     "execution_count": 26,
     "metadata": {},
     "output_type": "execute_result"
    }
   ],
   "source": [
    "zillow_df['fips'].value_counts()"
   ]
  },
  {
   "cell_type": "markdown",
   "id": "0f80b261-d57c-450a-b080-663dd20941f9",
   "metadata": {},
   "source": [
    "Store all of the necessary functions to automate your process from acquiring the data to returning a cleaned dataframe witn no missing values in your wrangle.py file. Name your final function wrangle_zillow."
   ]
  },
  {
   "cell_type": "code",
   "execution_count": 27,
   "id": "3b6fd7ba-c2de-41e9-88ce-2722d0d515f3",
   "metadata": {},
   "outputs": [],
   "source": [
    "def clean_zillow (df):\n",
    "    '''\n",
    "    Takes in a df and drops duplicates,  nulls, all houses that do not have bedrooms and bathrooms,\n",
    "    houses that calculatedfinishedsquarefeet < 800, and bedroomcnt, yearbuilt, fips are changed to\n",
    "    int.\n",
    "    Return a clean df\n",
    "    '''\n",
    "    \n",
    "    # drop duplicates\n",
    "    df = df.drop_duplicates()\n",
    "    #drop nulls\n",
    "    df = df.dropna(how='any',axis=0)\n",
    "\n",
    "    #drop all houses with bath = 0 and bedromms = 0\n",
    "    #get the index to drop the rows\n",
    "    ind = list(df[(df.bedroomcnt == 0) & (df.bathroomcnt == 0)].index)\n",
    "    #drop\n",
    "    df.drop(ind, axis=0, inplace= True)\n",
    "\n",
    "\n",
    "    #drop all houses calculatedfinisheedsqf <800\n",
    "    #get the index to drop\n",
    "    lis =list(df[df['calculatedfinishedsquarefeet'] < 800].index)\n",
    "    #drop the rows\n",
    "    df.drop(lis, axis=0, inplace = True)\n",
    "\n",
    "    #bedrooms, yearbuilt and fips can be converted to int\n",
    "    df[['bedroomcnt', 'yearbuilt', 'fips']] = df[['bedroomcnt', 'yearbuilt', 'fips']].astype(int)\n",
    "    return df\n"
   ]
  },
  {
   "cell_type": "code",
   "execution_count": 28,
   "id": "89b1c6b9-04f4-4f91-88cf-8cf80c3ace89",
   "metadata": {},
   "outputs": [],
   "source": [
    "df = wrangle.wrangle_zillow()"
   ]
  },
  {
   "cell_type": "code",
   "execution_count": 30,
   "id": "c987158a-efec-4474-af23-9c342ae5b2a6",
   "metadata": {},
   "outputs": [
    {
     "data": {
      "text/html": [
       "<div>\n",
       "<style scoped>\n",
       "    .dataframe tbody tr th:only-of-type {\n",
       "        vertical-align: middle;\n",
       "    }\n",
       "\n",
       "    .dataframe tbody tr th {\n",
       "        vertical-align: top;\n",
       "    }\n",
       "\n",
       "    .dataframe thead th {\n",
       "        text-align: right;\n",
       "    }\n",
       "</style>\n",
       "<table border=\"1\" class=\"dataframe\">\n",
       "  <thead>\n",
       "    <tr style=\"text-align: right;\">\n",
       "      <th></th>\n",
       "      <th>bedroomcnt</th>\n",
       "      <th>bathroomcnt</th>\n",
       "      <th>calculatedfinishedsquarefeet</th>\n",
       "      <th>taxvaluedollarcnt</th>\n",
       "      <th>yearbuilt</th>\n",
       "      <th>taxamount</th>\n",
       "      <th>fips</th>\n",
       "    </tr>\n",
       "  </thead>\n",
       "  <tbody>\n",
       "    <tr>\n",
       "      <th>4</th>\n",
       "      <td>4</td>\n",
       "      <td>2.0</td>\n",
       "      <td>3633.0</td>\n",
       "      <td>296425.0</td>\n",
       "      <td>2005</td>\n",
       "      <td>6941.39</td>\n",
       "      <td>6037</td>\n",
       "    </tr>\n",
       "    <tr>\n",
       "      <th>6</th>\n",
       "      <td>3</td>\n",
       "      <td>4.0</td>\n",
       "      <td>1620.0</td>\n",
       "      <td>847770.0</td>\n",
       "      <td>2011</td>\n",
       "      <td>10244.94</td>\n",
       "      <td>6037</td>\n",
       "    </tr>\n",
       "    <tr>\n",
       "      <th>7</th>\n",
       "      <td>3</td>\n",
       "      <td>2.0</td>\n",
       "      <td>2077.0</td>\n",
       "      <td>646760.0</td>\n",
       "      <td>1926</td>\n",
       "      <td>7924.68</td>\n",
       "      <td>6037</td>\n",
       "    </tr>\n",
       "    <tr>\n",
       "      <th>18</th>\n",
       "      <td>3</td>\n",
       "      <td>1.0</td>\n",
       "      <td>1244.0</td>\n",
       "      <td>169471.0</td>\n",
       "      <td>1950</td>\n",
       "      <td>2532.88</td>\n",
       "      <td>6037</td>\n",
       "    </tr>\n",
       "    <tr>\n",
       "      <th>19</th>\n",
       "      <td>3</td>\n",
       "      <td>2.0</td>\n",
       "      <td>1300.0</td>\n",
       "      <td>233266.0</td>\n",
       "      <td>1950</td>\n",
       "      <td>3110.99</td>\n",
       "      <td>6037</td>\n",
       "    </tr>\n",
       "  </tbody>\n",
       "</table>\n",
       "</div>"
      ],
      "text/plain": [
       "    bedroomcnt  bathroomcnt  calculatedfinishedsquarefeet  taxvaluedollarcnt  \\\n",
       "4            4          2.0                        3633.0           296425.0   \n",
       "6            3          4.0                        1620.0           847770.0   \n",
       "7            3          2.0                        2077.0           646760.0   \n",
       "18           3          1.0                        1244.0           169471.0   \n",
       "19           3          2.0                        1300.0           233266.0   \n",
       "\n",
       "    yearbuilt  taxamount  fips  \n",
       "4        2005    6941.39  6037  \n",
       "6        2011   10244.94  6037  \n",
       "7        1926    7924.68  6037  \n",
       "18       1950    2532.88  6037  \n",
       "19       1950    3110.99  6037  "
      ]
     },
     "execution_count": 30,
     "metadata": {},
     "output_type": "execute_result"
    }
   ],
   "source": [
    "df.head()"
   ]
  },
  {
   "cell_type": "code",
   "execution_count": 32,
   "id": "0ba3dd87-223d-47b4-8f92-8148f89ec1f2",
   "metadata": {},
   "outputs": [
    {
     "name": "stdout",
     "output_type": "stream",
     "text": [
      "<class 'pandas.core.frame.DataFrame'>\n",
      "Int64Index: 2074798 entries, 4 to 2152862\n",
      "Data columns (total 7 columns):\n",
      " #   Column                        Non-Null Count    Dtype  \n",
      "---  ------                        --------------    -----  \n",
      " 0   bedroomcnt                    2074798 non-null  int64  \n",
      " 1   bathroomcnt                   2074798 non-null  float64\n",
      " 2   calculatedfinishedsquarefeet  2074798 non-null  float64\n",
      " 3   taxvaluedollarcnt             2074798 non-null  float64\n",
      " 4   yearbuilt                     2074798 non-null  int64  \n",
      " 5   taxamount                     2074798 non-null  float64\n",
      " 6   fips                          2074798 non-null  int64  \n",
      "dtypes: float64(4), int64(3)\n",
      "memory usage: 126.6 MB\n"
     ]
    }
   ],
   "source": [
    "#Regular .info() wont show null count because larger data like zillow behave like that\n",
    "df.info(null_counts=True)"
   ]
  },
  {
   "cell_type": "code",
   "execution_count": null,
   "id": "188ec919-6d9a-4017-af32-4f2299f7bc74",
   "metadata": {},
   "outputs": [],
   "source": []
  }
 ],
 "metadata": {
  "kernelspec": {
   "display_name": "Python 3 (ipykernel)",
   "language": "python",
   "name": "python3"
  },
  "language_info": {
   "codemirror_mode": {
    "name": "ipython",
    "version": 3
   },
   "file_extension": ".py",
   "mimetype": "text/x-python",
   "name": "python",
   "nbconvert_exporter": "python",
   "pygments_lexer": "ipython3",
   "version": "3.9.7"
  }
 },
 "nbformat": 4,
 "nbformat_minor": 5
}
