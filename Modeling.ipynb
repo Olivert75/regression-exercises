{
 "cells": [
  {
   "cell_type": "markdown",
   "id": "a743bc81-e77d-4b7a-a43e-383654261fcc",
   "metadata": {},
   "source": [
    "Select a dataset with a continuous target variable.\n",
    "\n",
    "Be sure your data is prepared (no missing values, numeric datatypes) and split into samples.\n",
    "\n",
    "Work through all of the steps outlined in the lesson, from setting the baseline to selected a model and evaluating the final model on your test data."
   ]
  },
  {
   "cell_type": "code",
   "execution_count": 9,
   "id": "3a34e892-62d9-44a5-9e82-cff4dbcb02d3",
   "metadata": {},
   "outputs": [],
   "source": [
    "import pandas as pd\n",
    "import numpy as np\n",
    "import matplotlib.pyplot as plt\n",
    "\n",
    "# modeling methods\n",
    "from sklearn.metrics import mean_squared_error\n",
    "from sklearn.linear_model import LinearRegression, LassoLars, TweedieRegressor\n",
    "from sklearn.preprocessing import PolynomialFeatures\n",
    "from pydataset import data\n",
    "\n",
    "import warnings\n",
    "warnings.filterwarnings(\"ignore\")\n",
    "\n",
    "import feature_engieering as fe"
   ]
  },
  {
   "cell_type": "code",
   "execution_count": 4,
   "id": "14525731-e9cd-4c18-8d59-03f71d4417b3",
   "metadata": {},
   "outputs": [],
   "source": [
    "swiss_df= data('swiss')"
   ]
  },
  {
   "cell_type": "code",
   "execution_count": 5,
   "id": "d073e924-e036-423a-acac-52dcf7184824",
   "metadata": {},
   "outputs": [
    {
     "data": {
      "text/html": [
       "<div>\n",
       "<style scoped>\n",
       "    .dataframe tbody tr th:only-of-type {\n",
       "        vertical-align: middle;\n",
       "    }\n",
       "\n",
       "    .dataframe tbody tr th {\n",
       "        vertical-align: top;\n",
       "    }\n",
       "\n",
       "    .dataframe thead th {\n",
       "        text-align: right;\n",
       "    }\n",
       "</style>\n",
       "<table border=\"1\" class=\"dataframe\">\n",
       "  <thead>\n",
       "    <tr style=\"text-align: right;\">\n",
       "      <th></th>\n",
       "      <th>Fertility</th>\n",
       "      <th>Agriculture</th>\n",
       "      <th>Examination</th>\n",
       "      <th>Education</th>\n",
       "      <th>Catholic</th>\n",
       "      <th>Infant.Mortality</th>\n",
       "    </tr>\n",
       "  </thead>\n",
       "  <tbody>\n",
       "    <tr>\n",
       "      <th>Courtelary</th>\n",
       "      <td>80.2</td>\n",
       "      <td>17.0</td>\n",
       "      <td>15</td>\n",
       "      <td>12</td>\n",
       "      <td>9.96</td>\n",
       "      <td>22.2</td>\n",
       "    </tr>\n",
       "    <tr>\n",
       "      <th>Delemont</th>\n",
       "      <td>83.1</td>\n",
       "      <td>45.1</td>\n",
       "      <td>6</td>\n",
       "      <td>9</td>\n",
       "      <td>84.84</td>\n",
       "      <td>22.2</td>\n",
       "    </tr>\n",
       "    <tr>\n",
       "      <th>Franches-Mnt</th>\n",
       "      <td>92.5</td>\n",
       "      <td>39.7</td>\n",
       "      <td>5</td>\n",
       "      <td>5</td>\n",
       "      <td>93.40</td>\n",
       "      <td>20.2</td>\n",
       "    </tr>\n",
       "    <tr>\n",
       "      <th>Moutier</th>\n",
       "      <td>85.8</td>\n",
       "      <td>36.5</td>\n",
       "      <td>12</td>\n",
       "      <td>7</td>\n",
       "      <td>33.77</td>\n",
       "      <td>20.3</td>\n",
       "    </tr>\n",
       "    <tr>\n",
       "      <th>Neuveville</th>\n",
       "      <td>76.9</td>\n",
       "      <td>43.5</td>\n",
       "      <td>17</td>\n",
       "      <td>15</td>\n",
       "      <td>5.16</td>\n",
       "      <td>20.6</td>\n",
       "    </tr>\n",
       "  </tbody>\n",
       "</table>\n",
       "</div>"
      ],
      "text/plain": [
       "              Fertility  Agriculture  Examination  Education  Catholic  \\\n",
       "Courtelary         80.2         17.0           15         12      9.96   \n",
       "Delemont           83.1         45.1            6          9     84.84   \n",
       "Franches-Mnt       92.5         39.7            5          5     93.40   \n",
       "Moutier            85.8         36.5           12          7     33.77   \n",
       "Neuveville         76.9         43.5           17         15      5.16   \n",
       "\n",
       "              Infant.Mortality  \n",
       "Courtelary                22.2  \n",
       "Delemont                  22.2  \n",
       "Franches-Mnt              20.2  \n",
       "Moutier                   20.3  \n",
       "Neuveville                20.6  "
      ]
     },
     "execution_count": 5,
     "metadata": {},
     "output_type": "execute_result"
    }
   ],
   "source": [
    "swiss_df.head()"
   ]
  },
  {
   "cell_type": "code",
   "execution_count": 6,
   "id": "94656d91-a1b9-4385-b4aa-9b76839a3cdf",
   "metadata": {},
   "outputs": [],
   "source": [
    "target = 'Fertility'"
   ]
  },
  {
   "cell_type": "code",
   "execution_count": 10,
   "id": "40acd39f-799e-477f-b7c7-91d2b6214446",
   "metadata": {},
   "outputs": [],
   "source": [
    "X_train, y_train, X_validate, y_validate, X_test, y_test = fe.train_validate_test(swiss_df, target)"
   ]
  },
  {
   "cell_type": "code",
   "execution_count": 12,
   "id": "d6b254c5-9d09-4c65-b9c7-165ef54e07fd",
   "metadata": {},
   "outputs": [],
   "source": [
    "obj_cols = fe.get_object_cols(X_train)"
   ]
  },
  {
   "cell_type": "code",
   "execution_count": 13,
   "id": "bc9af0a8-b18c-46bd-9c61-1cf3b8851332",
   "metadata": {},
   "outputs": [],
   "source": [
    "num_cols = fe.get_numeric_X_cols(X_train, obj_cols)"
   ]
  },
  {
   "cell_type": "code",
   "execution_count": 14,
   "id": "79bca71d-1ba6-4875-8c04-12d2101e8a9f",
   "metadata": {},
   "outputs": [],
   "source": [
    "X_train_scaled, X_validate_scaled, X_test_scaled = fe.min_max_scale(X_train, X_validate, X_test, num_cols)"
   ]
  },
  {
   "cell_type": "code",
   "execution_count": 15,
   "id": "9d4d02bf-31ac-4e53-8f65-ae9542527c29",
   "metadata": {},
   "outputs": [],
   "source": [
    "#turning my y_train and y_validate to dataframes so we can append new columns\n",
    "y_train = pd.DataFrame(y_train)\n",
    "y_validate = pd.DataFrame(y_validate)"
   ]
  },
  {
   "cell_type": "code",
   "execution_count": 16,
   "id": "2e75bc27-888a-4340-b357-d0f5cddf61df",
   "metadata": {},
   "outputs": [
    {
     "name": "stdout",
     "output_type": "stream",
     "text": [
      "BASELINE\n",
      "-------------\n",
      "RMSE using Mean\n",
      "Train/In-Sample:  9.77 \n",
      "Validate/Out-of-Sample:  14.78\n",
      "-------------\n",
      "RMSE using Median\n",
      "Train/In-Sample:  9.78 \n",
      "Validate/Out-of-Sample:  14.83\n"
     ]
    }
   ],
   "source": [
    "#fertility mean\n",
    "fertility_pred_mean = y_train['Fertility'].mean()\n",
    "y_train['fertility_pred_mean'] = fertility_pred_mean\n",
    "y_validate['fertility_pred_mean'] = fertility_pred_mean\n",
    "\n",
    "#fertility median\n",
    "fertility_pred_median = y_train['Fertility'].median()\n",
    "y_train['fertility_pred_median'] = fertility_pred_median\n",
    "y_validate['fertility_pred_median'] = fertility_pred_median\n",
    "\n",
    "#RMSE of fertility mean\n",
    "rmse_train = mean_squared_error(y_train.Fertility, y_train.fertility_pred_mean)**(1/2)\n",
    "rmse_validate = mean_squared_error(y_validate.Fertility, y_validate.fertility_pred_mean)**(1/2)\n",
    "\n",
    "print('BASELINE')\n",
    "print('-------------')\n",
    "print(\"RMSE using Mean\\nTrain/In-Sample: \", round(rmse_train, 2), \n",
    "      \"\\nValidate/Out-of-Sample: \", round(rmse_validate, 2))\n",
    "print('-------------')\n",
    "#RMSE of fertility median\n",
    "rmse_train = mean_squared_error(y_train.Fertility, y_train.fertility_pred_median)**(1/2)\n",
    "rmse_validate = mean_squared_error(y_validate.Fertility, y_validate.fertility_pred_median)**(1/2)\n",
    "\n",
    "print(\"RMSE using Median\\nTrain/In-Sample: \", round(rmse_train, 2), \n",
    "      \"\\nValidate/Out-of-Sample: \", round(rmse_validate, 2))"
   ]
  },
  {
   "cell_type": "code",
   "execution_count": 17,
   "id": "46567e83-f32c-4e82-96a9-6a0c1f8608f4",
   "metadata": {},
   "outputs": [
    {
     "data": {
      "image/png": "[encoded data removed]",
      "text/plain": [
       "<Figure size 432x288 with 1 Axes>"
      ]
     },
     "metadata": {
      "needs_background": "light"
     },
     "output_type": "display_data"
    }
   ],
   "source": [
    "#visualize\n",
    "plt.hist(y_train.Fertility, color='orange', alpha=.5, label=\"Actual Fertility Rate\")\n",
    "plt.hist(y_train.fertility_pred_mean, bins=1, color='blue', alpha=.5, rwidth=100, label=\"Predicted Fertility - Mean\")\n",
    "plt.hist(y_train.fertility_pred_median, bins=1, color='green', alpha=.5, rwidth=100, label=\"Predicted Fertility - Median\")\n",
    "plt.xlabel(\"Fertility\")\n",
    "plt.ylabel(\"Count\")\n",
    "plt.legend()\n",
    "plt.show()"
   ]
  },
  {
   "cell_type": "code",
   "execution_count": 18,
   "id": "c25959b0-5aff-4206-ac50-09bf30b09d6a",
   "metadata": {},
   "outputs": [
    {
     "name": "stdout",
     "output_type": "stream",
     "text": [
      "RMSE for OLS using LinearRegression\n",
      "Training/In-Sample:  615.3022285442719 \n",
      "Validation/Out-of-Sample:  628.5498170704735\n"
     ]
    }
   ],
   "source": [
    "#create model object\n",
    "lm = LinearRegression(normalize=True)\n",
    "\n",
    "#fit the model to our training data, specify column since it is a dataframe\n",
    "lm.fit(X_train_scaled,y_train.Fertility)\n",
    "\n",
    "#predict train\n",
    "y_train['fertility_pred_lm'] = lm.predict(X_train)\n",
    "\n",
    "#evaluate the RMSE for train\n",
    "rmse_train = mean_squared_error(y_train.Fertility, y_train.fertility_pred_lm)**(1/2)\n",
    "\n",
    "#predict validate\n",
    "y_validate['fertility_pred_lm'] = lm.predict(X_validate)\n",
    "\n",
    "#evaluate the RMSE for validate\n",
    "rmse_validate = mean_squared_error(y_validate.Fertility, y_validate.fertility_pred_lm)**(1/2)\n",
    "\n",
    "print(\"RMSE for OLS using LinearRegression\\nTraining/In-Sample: \", rmse_train, \n",
    "      \"\\nValidation/Out-of-Sample: \", rmse_validate)\n",
    "                                                           "
   ]
  },
  {
   "cell_type": "code",
   "execution_count": 19,
   "id": "299440ea-58a1-4e56-83ce-4d9efd4f2d33",
   "metadata": {},
   "outputs": [
    {
     "name": "stdout",
     "output_type": "stream",
     "text": [
      "RMSE for Lasso + Lars\n",
      "Training/In-Sample:  190.59126185120388 \n",
      "Validation/Out-of-Sample:  124.32119824359873\n"
     ]
    }
   ],
   "source": [
    "#create model object\n",
    "lars = LassoLars(alpha=1.0)\n",
    "\n",
    "#fit the model, be sure to specify y_train column since it is a dataframe\n",
    "lars.fit(X_train_scaled,y_train.Fertility)\n",
    "\n",
    "#predict train\n",
    "y_train['fertility_pred_lars'] = lars.predict(X_train)\n",
    "\n",
    "#evaluate rmse for train\n",
    "rmse_train = mean_squared_error(y_train.Fertility, y_train.fertility_pred_lars)**(1/2)\n",
    "\n",
    "#predict_validate\n",
    "y_validate['fertility_pred_lars'] = lars.predict(X_validate)\n",
    "\n",
    "#evaluate rmse for validate\n",
    "rmse_validate = mean_squared_error(y_validate.Fertility, y_validate.fertility_pred_lars)**(1/2)\n",
    "\n",
    "print(\"RMSE for Lasso + Lars\\nTraining/In-Sample: \", rmse_train, \n",
    "      \"\\nValidation/Out-of-Sample: \", rmse_validate)"
   ]
  },
  {
   "cell_type": "code",
   "execution_count": 20,
   "id": "95744d8a-01c1-4f10-88d8-1cd92647e183",
   "metadata": {},
   "outputs": [
    {
     "name": "stdout",
     "output_type": "stream",
     "text": [
      "RMSE for GLM using Tweedie, power=1 & alpha=0\n",
      "Training/In-Sample:  4.480345159948017 \n",
      "Validation/Out-of-Sample:  65.87451250065743\n"
     ]
    }
   ],
   "source": [
    "#create model object\n",
    "glm = TweedieRegressor(power=1, alpha=0)\n",
    "\n",
    "#fit the model, specify y_train column cause it's a dataframe\n",
    "glm.fit(X_train_scaled,y_train.Fertility)\n",
    "\n",
    "# predict train\n",
    "y_train['fertility_pred_glm'] = glm.predict(X_train_scaled)\n",
    "\n",
    "# evaluate rmse for train\n",
    "rmse_train = mean_squared_error(y_train.Fertility, y_train.fertility_pred_glm)**(1/2)\n",
    "\n",
    "# predict validate\n",
    "y_validate['fertility_pred_glm'] = glm.predict(X_validate)\n",
    "\n",
    "# evaluate: rmse\n",
    "rmse_validate = mean_squared_error(y_validate.Fertility, y_validate.fertility_pred_glm)**(1/2)\n",
    "\n",
    "print(\"RMSE for GLM using Tweedie, power=1 & alpha=0\\nTraining/In-Sample: \", rmse_train, \n",
    "      \"\\nValidation/Out-of-Sample: \", rmse_validate)"
   ]
  },
  {
   "cell_type": "code",
   "execution_count": 22,
   "id": "b0366120-5b5f-4b75-a13f-0fe4ecbfc97c",
   "metadata": {},
   "outputs": [],
   "source": [
    "#making polynomial features to get a new set of features\n",
    "pf = PolynomialFeatures(degree=2)\n",
    "\n",
    "#fit and transform X_train_scaled\n",
    "X_train_degree2 = pf.fit_transform(X_train_scaled)\n",
    "\n",
    "#transform X_validate_scaled, and X_test_scaled\n",
    "X_validate_degree2 = pf.transform(X_validate_scaled)\n",
    "X_test_degree2 = pf.transform(X_test_scaled)\n"
   ]
  },
  {
   "cell_type": "code",
   "execution_count": 23,
   "id": "7c10d0eb-34b3-4006-b8ca-8e6e3a8fbb10",
   "metadata": {},
   "outputs": [
    {
     "name": "stdout",
     "output_type": "stream",
     "text": [
      "RMSE for Polynomial Model, degrees=2\n",
      "Training/In-Sample:  2.5893942606683207 \n",
      "Validation/Out-of-Sample:  26.657466827351996\n"
     ]
    }
   ],
   "source": [
    "#okay let's do linear regression again\n",
    "lm2 = LinearRegression(normalize=True)\n",
    "\n",
    "#fit the model using scaled X_train, once again specify y_train column\n",
    "lm2.fit(X_train_degree2, y_train.Fertility)\n",
    "\n",
    "#predict train\n",
    "y_train['fertility_pred_lm2'] = lm2.predict(X_train_degree2)\n",
    "\n",
    "#evaluate rmse for train\n",
    "rmse_train = mean_squared_error(y_train.Fertility, y_train.fertility_pred_lm2)**(1/2)\n",
    "\n",
    "#predict validate\n",
    "y_validate['fertility_pred_lm2'] = lm2.predict(X_validate_degree2)\n",
    "\n",
    "#evaluate rmse for validate\n",
    "rmse_validate = mean_squared_error(y_validate.Fertility, y_validate.fertility_pred_lm2)**(1/2)\n",
    "\n",
    "print(\"RMSE for Polynomial Model, degrees=2\\nTraining/In-Sample: \", rmse_train, \n",
    "      \"\\nValidation/Out-of-Sample: \", rmse_validate)\n"
   ]
  },
  {
   "cell_type": "code",
   "execution_count": 24,
   "id": "dade7065-2fca-432b-baef-4f1cf9bdd47b",
   "metadata": {},
   "outputs": [
    {
     "data": {
      "text/plain": [
       "<matplotlib.legend.Legend at 0x7fa29c722910>"
      ]
     },
     "execution_count": 24,
     "metadata": {},
     "output_type": "execute_result"
    },
    {
     "data": {
      "image/png": "[encoded data removed]",
      "text/plain": [
       "<Figure size 1152x576 with 1 Axes>"
      ]
     },
     "metadata": {
      "needs_background": "light"
     },
     "output_type": "display_data"
    }
   ],
   "source": [
    "plt.figure(figsize=(16,8))\n",
    "plt.axhline(label=\"No Error\")\n",
    "plt.scatter(y_validate.Fertility, y_validate.fertility_pred_lm-y_validate.Fertility, \n",
    "            alpha=.5, color=\"red\", s=100, label=\"Model: LinearRegression\")\n",
    "plt.scatter(y_validate.Fertility, y_validate.fertility_pred_lars-y_validate.Fertility, \n",
    "            alpha=.5, color=\"blue\", s=100, label=\"Model: LinearRegression\")\n",
    "plt.scatter(y_validate.Fertility, y_validate.fertility_pred_glm-y_validate.Fertility, \n",
    "            alpha=.5, color=\"yellow\", s=100, label=\"Model: TweedieRegressor\")\n",
    "plt.scatter(y_validate.Fertility, y_validate.fertility_pred_lm2-y_validate.Fertility, \n",
    "            alpha=.5, color=\"green\", s=100, label=\"Model 2nd degree Polynomial\")\n",
    "plt.legend()"
   ]
  },
  {
   "cell_type": "code",
   "execution_count": 26,
   "id": "ee06d383-4f88-4e62-b48d-b0592bcb2733",
   "metadata": {},
   "outputs": [
    {
     "name": "stdout",
     "output_type": "stream",
     "text": [
      "RMSE for OLS Model using LinearRegression (2 degrees)\n",
      "Out-of-Sample Performance:  59.76633014508012\n"
     ]
    }
   ],
   "source": [
    "#turning it into a dataframe\n",
    "y_test = pd.DataFrame(y_test)\n",
    "\n",
    "# predicting on our test model\n",
    "y_test['fertility_pred_lm2'] = lm2.predict(X_test_degree2)\n",
    "\n",
    "# evaluate: rmse\n",
    "rmse_test = mean_squared_error(y_test.Fertility, y_test.fertility_pred_lm2)**(1/2)\n",
    "\n",
    "print(\"RMSE for OLS Model using LinearRegression (2 degrees)\\nOut-of-Sample Performance: \", rmse_test)"
   ]
  },
  {
   "cell_type": "code",
   "execution_count": null,
   "id": "e7842f25-65f2-47a9-a286-ce21cf82929f",
   "metadata": {},
   "outputs": [],
   "source": []
  }
 ],
 "metadata": {
  "kernelspec": {
   "display_name": "Python 3 (ipykernel)",
   "language": "python",
   "name": "python3"
  },
  "language_info": {
   "codemirror_mode": {
    "name": "ipython",
    "version": 3
   },
   "file_extension": ".py",
   "mimetype": "text/x-python",
   "name": "python",
   "nbconvert_exporter": "python",
   "pygments_lexer": "ipython3",
   "version": "3.9.7"
  }
 },
 "nbformat": 4,
 "nbformat_minor": 5
}
