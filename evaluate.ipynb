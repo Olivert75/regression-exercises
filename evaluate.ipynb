{
 "cells": [
  {
   "cell_type": "markdown",
   "id": "f374eb6e-e3ce-4a4e-a827-04d4e539d1fe",
   "metadata": {},
   "source": [
    "Exercises\n",
    "\n",
    "Do you work for this exercise in either a jupyter notebook named evaluate within your regression-exercises repository. By the end of this exercise you will also create a python script named evaluate, so the overall deliverables for this exercise are the python script and jupyter notebook both with the name evaluate within your regression-exercises repo.\n",
    "\n",
    "Load the tips dataset from either pydataset or seaborn.\n",
    "\n",
    "Fit a linear regression model (ordinary least squares) and compute yhat, predictions of tip using total_bill.\n",
    "\n",
    "Here is some sample code to get you started:\n",
    "\n",
    "\n",
    "from sklearn.linear_model import LinearRegression\n",
    "\n",
    "# assuming X and y are already defined\n",
    "model = LinearRegression().fit(X, y)\n",
    "predictions = model.predict(X)\n",
    "Modify and add to the code above as necessary for it to work with the tips dataset.\n",
    "\n",
    "Plot the residuals for the linear regression model that you made.\n",
    "\n",
    "Calculate the sum of squared errors, explained sum of squares, total sum of squares, mean squared error, and root mean squared error for your model.\n",
    "\n",
    "Calculate the sum of squared errors, mean squared error, and root mean squared error for the baseline model (i.e. a model that always predicts the average tip amount).\n",
    "\n",
    "Write python code that compares the sum of squared errors for your model against the sum of squared errors for the baseline model and outputs whether or not your model performs better than the baseline model.\n",
    "\n",
    "What is the amount of variance explained in your model?\n",
    "\n",
    "Is your model better than the baseline model?\n",
    "\n",
    "Create a file named evaluate.py that contains the following functions.\n",
    "\n",
    "plot_residuals(y, yhat): creates a residual plot\n",
    "regression_errors(y, yhat): returns the following values:\n",
    "sum of squared errors (SSE)\n",
    "explained sum of squares (ESS)\n",
    "total sum of squares (TSS)\n",
    "mean squared error (MSE)\n",
    "root mean squared error (RMSE)\n",
    "baseline_mean_errors(y): computes the SSE, MSE, and RMSE for the baseline model\n",
    "better_than_baseline(y, yhat): returns true if your model performs better than the baseline, otherwise false\n",
    "Load the mpg dataset and fit a model that predicts highway mileage based on engine displacement. Take a look at all the regression evaluation metrics, and determine whether this model is better than the baseline model. Use the functions from your evaluate.py to help accomplish this."
   ]
  },
  {
   "cell_type": "code",
   "execution_count": 1,
   "id": "86a5e6e3-284c-4e48-87a5-38c463c04b32",
   "metadata": {},
   "outputs": [],
   "source": [
    "import pandas as pd\n",
    "import numpy as np\n",
    "import matplotlib.pyplot as plt\n",
    "import seaborn as sns\n",
    "from pydataset import data\n",
    "from sklearn.linear_model import LinearRegression\n",
    "from sklearn.metrics import r2_score, mean_squared_error, explained_variance_score\n",
    "from math import sqrt\n",
    "import evaluate\n",
    "from IPython.display import display, HTML"
   ]
  },
  {
   "cell_type": "code",
   "execution_count": 2,
   "id": "29c9949a-ce08-4e2a-870d-9756ff9c299b",
   "metadata": {},
   "outputs": [],
   "source": [
    "df= data('tips')"
   ]
  },
  {
   "cell_type": "code",
   "execution_count": 3,
   "id": "6e630fb0-3cf1-4ba4-8b3d-84b689588ddc",
   "metadata": {},
   "outputs": [
    {
     "data": {
      "text/html": [
       "<div>\n",
       "<style scoped>\n",
       "    .dataframe tbody tr th:only-of-type {\n",
       "        vertical-align: middle;\n",
       "    }\n",
       "\n",
       "    .dataframe tbody tr th {\n",
       "        vertical-align: top;\n",
       "    }\n",
       "\n",
       "    .dataframe thead th {\n",
       "        text-align: right;\n",
       "    }\n",
       "</style>\n",
       "<table border=\"1\" class=\"dataframe\">\n",
       "  <thead>\n",
       "    <tr style=\"text-align: right;\">\n",
       "      <th></th>\n",
       "      <th>total_bill</th>\n",
       "      <th>tip</th>\n",
       "      <th>sex</th>\n",
       "      <th>smoker</th>\n",
       "      <th>day</th>\n",
       "      <th>time</th>\n",
       "      <th>size</th>\n",
       "    </tr>\n",
       "  </thead>\n",
       "  <tbody>\n",
       "    <tr>\n",
       "      <th>1</th>\n",
       "      <td>16.99</td>\n",
       "      <td>1.01</td>\n",
       "      <td>Female</td>\n",
       "      <td>No</td>\n",
       "      <td>Sun</td>\n",
       "      <td>Dinner</td>\n",
       "      <td>2</td>\n",
       "    </tr>\n",
       "    <tr>\n",
       "      <th>2</th>\n",
       "      <td>10.34</td>\n",
       "      <td>1.66</td>\n",
       "      <td>Male</td>\n",
       "      <td>No</td>\n",
       "      <td>Sun</td>\n",
       "      <td>Dinner</td>\n",
       "      <td>3</td>\n",
       "    </tr>\n",
       "    <tr>\n",
       "      <th>3</th>\n",
       "      <td>21.01</td>\n",
       "      <td>3.50</td>\n",
       "      <td>Male</td>\n",
       "      <td>No</td>\n",
       "      <td>Sun</td>\n",
       "      <td>Dinner</td>\n",
       "      <td>3</td>\n",
       "    </tr>\n",
       "    <tr>\n",
       "      <th>4</th>\n",
       "      <td>23.68</td>\n",
       "      <td>3.31</td>\n",
       "      <td>Male</td>\n",
       "      <td>No</td>\n",
       "      <td>Sun</td>\n",
       "      <td>Dinner</td>\n",
       "      <td>2</td>\n",
       "    </tr>\n",
       "    <tr>\n",
       "      <th>5</th>\n",
       "      <td>24.59</td>\n",
       "      <td>3.61</td>\n",
       "      <td>Female</td>\n",
       "      <td>No</td>\n",
       "      <td>Sun</td>\n",
       "      <td>Dinner</td>\n",
       "      <td>4</td>\n",
       "    </tr>\n",
       "  </tbody>\n",
       "</table>\n",
       "</div>"
      ],
      "text/plain": [
       "   total_bill   tip     sex smoker  day    time  size\n",
       "1       16.99  1.01  Female     No  Sun  Dinner     2\n",
       "2       10.34  1.66    Male     No  Sun  Dinner     3\n",
       "3       21.01  3.50    Male     No  Sun  Dinner     3\n",
       "4       23.68  3.31    Male     No  Sun  Dinner     2\n",
       "5       24.59  3.61  Female     No  Sun  Dinner     4"
      ]
     },
     "execution_count": 3,
     "metadata": {},
     "output_type": "execute_result"
    }
   ],
   "source": [
    "df.head()"
   ]
  },
  {
   "cell_type": "code",
   "execution_count": 4,
   "id": "14575868-b691-482d-9b7c-81d7b7e2ac65",
   "metadata": {},
   "outputs": [],
   "source": [
    "#baseline\n",
    "df['yhat_baseline'] = df['tip'].mean()"
   ]
  },
  {
   "cell_type": "code",
   "execution_count": 5,
   "id": "bab964b6-4721-4862-bf4e-300cb93bc295",
   "metadata": {},
   "outputs": [],
   "source": [
    "#asigne values to my X and y\n",
    "X = df[['total_bill']]\n",
    "y = df['tip']"
   ]
  },
  {
   "cell_type": "code",
   "execution_count": 6,
   "id": "070f7dd5-bd3f-4448-9ad7-16410b1e615a",
   "metadata": {},
   "outputs": [],
   "source": [
    "#create a model\n",
    "model = LinearRegression().fit(X, y)\n",
    "#model = LinearRegression().fit(df[['total_bill']], df['tip'])"
   ]
  },
  {
   "cell_type": "code",
   "execution_count": 7,
   "id": "563c9d35-364d-4ef8-84c6-0a0c35c89222",
   "metadata": {},
   "outputs": [],
   "source": [
    "# compute predictions and add to original dataframe\n",
    "df['yhat']= model.predict(X)"
   ]
  },
  {
   "cell_type": "code",
   "execution_count": 8,
   "id": "4357b389-e85e-4612-8dc6-f6e9508bf818",
   "metadata": {},
   "outputs": [
    {
     "data": {
      "text/html": [
       "<div>\n",
       "<style scoped>\n",
       "    .dataframe tbody tr th:only-of-type {\n",
       "        vertical-align: middle;\n",
       "    }\n",
       "\n",
       "    .dataframe tbody tr th {\n",
       "        vertical-align: top;\n",
       "    }\n",
       "\n",
       "    .dataframe thead th {\n",
       "        text-align: right;\n",
       "    }\n",
       "</style>\n",
       "<table border=\"1\" class=\"dataframe\">\n",
       "  <thead>\n",
       "    <tr style=\"text-align: right;\">\n",
       "      <th></th>\n",
       "      <th>total_bill</th>\n",
       "      <th>tip</th>\n",
       "      <th>sex</th>\n",
       "      <th>smoker</th>\n",
       "      <th>day</th>\n",
       "      <th>time</th>\n",
       "      <th>size</th>\n",
       "      <th>yhat_baseline</th>\n",
       "      <th>yhat</th>\n",
       "    </tr>\n",
       "  </thead>\n",
       "  <tbody>\n",
       "    <tr>\n",
       "      <th>1</th>\n",
       "      <td>16.99</td>\n",
       "      <td>1.01</td>\n",
       "      <td>Female</td>\n",
       "      <td>No</td>\n",
       "      <td>Sun</td>\n",
       "      <td>Dinner</td>\n",
       "      <td>2</td>\n",
       "      <td>2.998279</td>\n",
       "      <td>2.704636</td>\n",
       "    </tr>\n",
       "    <tr>\n",
       "      <th>2</th>\n",
       "      <td>10.34</td>\n",
       "      <td>1.66</td>\n",
       "      <td>Male</td>\n",
       "      <td>No</td>\n",
       "      <td>Sun</td>\n",
       "      <td>Dinner</td>\n",
       "      <td>3</td>\n",
       "      <td>2.998279</td>\n",
       "      <td>2.006223</td>\n",
       "    </tr>\n",
       "    <tr>\n",
       "      <th>3</th>\n",
       "      <td>21.01</td>\n",
       "      <td>3.50</td>\n",
       "      <td>Male</td>\n",
       "      <td>No</td>\n",
       "      <td>Sun</td>\n",
       "      <td>Dinner</td>\n",
       "      <td>3</td>\n",
       "      <td>2.998279</td>\n",
       "      <td>3.126835</td>\n",
       "    </tr>\n",
       "    <tr>\n",
       "      <th>4</th>\n",
       "      <td>23.68</td>\n",
       "      <td>3.31</td>\n",
       "      <td>Male</td>\n",
       "      <td>No</td>\n",
       "      <td>Sun</td>\n",
       "      <td>Dinner</td>\n",
       "      <td>2</td>\n",
       "      <td>2.998279</td>\n",
       "      <td>3.407250</td>\n",
       "    </tr>\n",
       "    <tr>\n",
       "      <th>5</th>\n",
       "      <td>24.59</td>\n",
       "      <td>3.61</td>\n",
       "      <td>Female</td>\n",
       "      <td>No</td>\n",
       "      <td>Sun</td>\n",
       "      <td>Dinner</td>\n",
       "      <td>4</td>\n",
       "      <td>2.998279</td>\n",
       "      <td>3.502822</td>\n",
       "    </tr>\n",
       "  </tbody>\n",
       "</table>\n",
       "</div>"
      ],
      "text/plain": [
       "   total_bill   tip     sex smoker  day    time  size  yhat_baseline      yhat\n",
       "1       16.99  1.01  Female     No  Sun  Dinner     2       2.998279  2.704636\n",
       "2       10.34  1.66    Male     No  Sun  Dinner     3       2.998279  2.006223\n",
       "3       21.01  3.50    Male     No  Sun  Dinner     3       2.998279  3.126835\n",
       "4       23.68  3.31    Male     No  Sun  Dinner     2       2.998279  3.407250\n",
       "5       24.59  3.61  Female     No  Sun  Dinner     4       2.998279  3.502822"
      ]
     },
     "execution_count": 8,
     "metadata": {},
     "output_type": "execute_result"
    }
   ],
   "source": [
    "df.head()"
   ]
  },
  {
   "cell_type": "code",
   "execution_count": 9,
   "id": "7f3fb161-b11e-44c1-95a4-ce98f4f76496",
   "metadata": {},
   "outputs": [],
   "source": [
    "# compute residuals\n",
    "#df['residual'] = df['yhat'] - df['y']\n",
    "# y = df['tip']\n",
    "\n",
    "df['residuals'] = df['yhat'] - df['tip']\n",
    "df['residuals_baseline'] = df ['yhat_baseline'] - df['tip']"
   ]
  },
  {
   "cell_type": "code",
   "execution_count": 10,
   "id": "b3a7a90d-4fe2-4d4a-9c2b-e703ccd9bc37",
   "metadata": {},
   "outputs": [
    {
     "data": {
      "text/html": [
       "<div>\n",
       "<style scoped>\n",
       "    .dataframe tbody tr th:only-of-type {\n",
       "        vertical-align: middle;\n",
       "    }\n",
       "\n",
       "    .dataframe tbody tr th {\n",
       "        vertical-align: top;\n",
       "    }\n",
       "\n",
       "    .dataframe thead th {\n",
       "        text-align: right;\n",
       "    }\n",
       "</style>\n",
       "<table border=\"1\" class=\"dataframe\">\n",
       "  <thead>\n",
       "    <tr style=\"text-align: right;\">\n",
       "      <th></th>\n",
       "      <th>total_bill</th>\n",
       "      <th>tip</th>\n",
       "      <th>sex</th>\n",
       "      <th>smoker</th>\n",
       "      <th>day</th>\n",
       "      <th>time</th>\n",
       "      <th>size</th>\n",
       "      <th>yhat_baseline</th>\n",
       "      <th>yhat</th>\n",
       "      <th>residuals</th>\n",
       "      <th>residuals_baseline</th>\n",
       "    </tr>\n",
       "  </thead>\n",
       "  <tbody>\n",
       "    <tr>\n",
       "      <th>1</th>\n",
       "      <td>16.99</td>\n",
       "      <td>1.01</td>\n",
       "      <td>Female</td>\n",
       "      <td>No</td>\n",
       "      <td>Sun</td>\n",
       "      <td>Dinner</td>\n",
       "      <td>2</td>\n",
       "      <td>2.998279</td>\n",
       "      <td>2.704636</td>\n",
       "      <td>1.694636</td>\n",
       "      <td>1.988279</td>\n",
       "    </tr>\n",
       "    <tr>\n",
       "      <th>2</th>\n",
       "      <td>10.34</td>\n",
       "      <td>1.66</td>\n",
       "      <td>Male</td>\n",
       "      <td>No</td>\n",
       "      <td>Sun</td>\n",
       "      <td>Dinner</td>\n",
       "      <td>3</td>\n",
       "      <td>2.998279</td>\n",
       "      <td>2.006223</td>\n",
       "      <td>0.346223</td>\n",
       "      <td>1.338279</td>\n",
       "    </tr>\n",
       "    <tr>\n",
       "      <th>3</th>\n",
       "      <td>21.01</td>\n",
       "      <td>3.50</td>\n",
       "      <td>Male</td>\n",
       "      <td>No</td>\n",
       "      <td>Sun</td>\n",
       "      <td>Dinner</td>\n",
       "      <td>3</td>\n",
       "      <td>2.998279</td>\n",
       "      <td>3.126835</td>\n",
       "      <td>-0.373165</td>\n",
       "      <td>-0.501721</td>\n",
       "    </tr>\n",
       "    <tr>\n",
       "      <th>4</th>\n",
       "      <td>23.68</td>\n",
       "      <td>3.31</td>\n",
       "      <td>Male</td>\n",
       "      <td>No</td>\n",
       "      <td>Sun</td>\n",
       "      <td>Dinner</td>\n",
       "      <td>2</td>\n",
       "      <td>2.998279</td>\n",
       "      <td>3.407250</td>\n",
       "      <td>0.097250</td>\n",
       "      <td>-0.311721</td>\n",
       "    </tr>\n",
       "    <tr>\n",
       "      <th>5</th>\n",
       "      <td>24.59</td>\n",
       "      <td>3.61</td>\n",
       "      <td>Female</td>\n",
       "      <td>No</td>\n",
       "      <td>Sun</td>\n",
       "      <td>Dinner</td>\n",
       "      <td>4</td>\n",
       "      <td>2.998279</td>\n",
       "      <td>3.502822</td>\n",
       "      <td>-0.107178</td>\n",
       "      <td>-0.611721</td>\n",
       "    </tr>\n",
       "  </tbody>\n",
       "</table>\n",
       "</div>"
      ],
      "text/plain": [
       "   total_bill   tip     sex smoker  day    time  size  yhat_baseline  \\\n",
       "1       16.99  1.01  Female     No  Sun  Dinner     2       2.998279   \n",
       "2       10.34  1.66    Male     No  Sun  Dinner     3       2.998279   \n",
       "3       21.01  3.50    Male     No  Sun  Dinner     3       2.998279   \n",
       "4       23.68  3.31    Male     No  Sun  Dinner     2       2.998279   \n",
       "5       24.59  3.61  Female     No  Sun  Dinner     4       2.998279   \n",
       "\n",
       "       yhat  residuals  residuals_baseline  \n",
       "1  2.704636   1.694636            1.988279  \n",
       "2  2.006223   0.346223            1.338279  \n",
       "3  3.126835  -0.373165           -0.501721  \n",
       "4  3.407250   0.097250           -0.311721  \n",
       "5  3.502822  -0.107178           -0.611721  "
      ]
     },
     "execution_count": 10,
     "metadata": {},
     "output_type": "execute_result"
    }
   ],
   "source": [
    "df.head()"
   ]
  },
  {
   "cell_type": "code",
   "execution_count": 11,
   "id": "0d959c0d-5533-440b-af68-2eb937dd5f27",
   "metadata": {},
   "outputs": [
    {
     "data": {
      "image/png": "[encoded data removed]",
      "text/plain": [
       "<Figure size 432x288 with 1 Axes>"
      ]
     },
     "metadata": {
      "needs_background": "light"
     },
     "output_type": "display_data"
    }
   ],
   "source": [
    "df.residuals.plot.hist()\n",
    "plt.show()"
   ]
  },
  {
   "cell_type": "code",
   "execution_count": 12,
   "id": "c53b3046-5de0-4b9c-b2fa-68517f448779",
   "metadata": {},
   "outputs": [
    {
     "data": {
      "image/png": "[encoded data removed]",
      "text/plain": [
       "<Figure size 432x288 with 1 Axes>"
      ]
     },
     "metadata": {
      "needs_background": "light"
     },
     "output_type": "display_data"
    }
   ],
   "source": [
    "df.residuals_baseline.plot.hist()\n",
    "plt.show()"
   ]
  },
  {
   "cell_type": "code",
   "execution_count": 13,
   "id": "316e1b20-67dd-4db6-9228-22ce4d5324cf",
   "metadata": {},
   "outputs": [
    {
     "data": {
      "image/png": "[encoded data removed]",
      "text/plain": [
       "<Figure size 936x504 with 1 Axes>"
      ]
     },
     "metadata": {
      "needs_background": "light"
     },
     "output_type": "display_data"
    }
   ],
   "source": [
    "fig, ax = plt.subplots(figsize=(13, 7))\n",
    "\n",
    "ax.hist(df.residuals_baseline, label='baseline residuals', alpha=.6)\n",
    "ax.hist(df.residuals, label='model residuals', alpha=.6)\n",
    "ax.legend()\n",
    "plt.show()"
   ]
  },
  {
   "cell_type": "code",
   "execution_count": 14,
   "id": "c87de525-7d06-43ec-b33f-b27d0e83a83c",
   "metadata": {},
   "outputs": [
    {
     "data": {
      "image/png": "[encoded data removed]",
      "text/plain": [
       "<Figure size 720x504 with 1 Axes>"
      ]
     },
     "metadata": {
      "needs_background": "light"
     },
     "output_type": "display_data"
    }
   ],
   "source": [
    "fig, ax = plt.subplots(figsize=(10, 7))\n",
    "\n",
    "ax.scatter(df.tip, df.residuals)\n",
    "ax.set(ylabel='residual', xlabel='actual')\n",
    "ax.hlines(0, *ax.get_xlim(), ls=':', color='gray')\n",
    "plt.show()"
   ]
  },
  {
   "cell_type": "code",
   "execution_count": 15,
   "id": "9757710b-6492-41b1-acdb-676b974eb275",
   "metadata": {},
   "outputs": [
    {
     "data": {
      "image/png": "[encoded data removed]",
      "text/plain": [
       "<Figure size 936x504 with 1 Axes>"
      ]
     },
     "metadata": {
      "needs_background": "light"
     },
     "output_type": "display_data"
    }
   ],
   "source": [
    "fig, ax = plt.subplots(figsize=(13, 7))\n",
    "\n",
    "ax.scatter(df.tip, df.residuals_baseline)\n",
    "ax.set(ylabel='residuals_baseline', xlabel='actual')\n",
    "ax.hlines(0, *ax.get_xlim(), ls=':', color='gray')\n",
    "ax.grid()"
   ]
  },
  {
   "cell_type": "code",
   "execution_count": 16,
   "id": "237dfdec-44d1-4a18-95c9-0da56e7c5d1d",
   "metadata": {},
   "outputs": [
    {
     "data": {
      "text/html": [
       "<div>\n",
       "<style scoped>\n",
       "    .dataframe tbody tr th:only-of-type {\n",
       "        vertical-align: middle;\n",
       "    }\n",
       "\n",
       "    .dataframe tbody tr th {\n",
       "        vertical-align: top;\n",
       "    }\n",
       "\n",
       "    .dataframe thead th {\n",
       "        text-align: right;\n",
       "    }\n",
       "</style>\n",
       "<table border=\"1\" class=\"dataframe\">\n",
       "  <thead>\n",
       "    <tr style=\"text-align: right;\">\n",
       "      <th></th>\n",
       "      <th>total_bill</th>\n",
       "      <th>tip</th>\n",
       "      <th>sex</th>\n",
       "      <th>smoker</th>\n",
       "      <th>day</th>\n",
       "      <th>time</th>\n",
       "      <th>size</th>\n",
       "      <th>yhat_baseline</th>\n",
       "      <th>yhat</th>\n",
       "      <th>residuals</th>\n",
       "      <th>residuals_baseline</th>\n",
       "      <th>residual^2</th>\n",
       "      <th>residuals_baseline^2</th>\n",
       "    </tr>\n",
       "  </thead>\n",
       "  <tbody>\n",
       "    <tr>\n",
       "      <th>1</th>\n",
       "      <td>16.99</td>\n",
       "      <td>1.01</td>\n",
       "      <td>Female</td>\n",
       "      <td>No</td>\n",
       "      <td>Sun</td>\n",
       "      <td>Dinner</td>\n",
       "      <td>2</td>\n",
       "      <td>2.998279</td>\n",
       "      <td>2.704636</td>\n",
       "      <td>1.694636</td>\n",
       "      <td>1.988279</td>\n",
       "      <td>2.871792</td>\n",
       "      <td>3.953252</td>\n",
       "    </tr>\n",
       "    <tr>\n",
       "      <th>2</th>\n",
       "      <td>10.34</td>\n",
       "      <td>1.66</td>\n",
       "      <td>Male</td>\n",
       "      <td>No</td>\n",
       "      <td>Sun</td>\n",
       "      <td>Dinner</td>\n",
       "      <td>3</td>\n",
       "      <td>2.998279</td>\n",
       "      <td>2.006223</td>\n",
       "      <td>0.346223</td>\n",
       "      <td>1.338279</td>\n",
       "      <td>0.119870</td>\n",
       "      <td>1.790990</td>\n",
       "    </tr>\n",
       "    <tr>\n",
       "      <th>3</th>\n",
       "      <td>21.01</td>\n",
       "      <td>3.50</td>\n",
       "      <td>Male</td>\n",
       "      <td>No</td>\n",
       "      <td>Sun</td>\n",
       "      <td>Dinner</td>\n",
       "      <td>3</td>\n",
       "      <td>2.998279</td>\n",
       "      <td>3.126835</td>\n",
       "      <td>-0.373165</td>\n",
       "      <td>-0.501721</td>\n",
       "      <td>0.139252</td>\n",
       "      <td>0.251724</td>\n",
       "    </tr>\n",
       "  </tbody>\n",
       "</table>\n",
       "</div>"
      ],
      "text/plain": [
       "   total_bill   tip     sex smoker  day    time  size  yhat_baseline  \\\n",
       "1       16.99  1.01  Female     No  Sun  Dinner     2       2.998279   \n",
       "2       10.34  1.66    Male     No  Sun  Dinner     3       2.998279   \n",
       "3       21.01  3.50    Male     No  Sun  Dinner     3       2.998279   \n",
       "\n",
       "       yhat  residuals  residuals_baseline  residual^2  residuals_baseline^2  \n",
       "1  2.704636   1.694636            1.988279    2.871792              3.953252  \n",
       "2  2.006223   0.346223            1.338279    0.119870              1.790990  \n",
       "3  3.126835  -0.373165           -0.501721    0.139252              0.251724  "
      ]
     },
     "execution_count": 16,
     "metadata": {},
     "output_type": "execute_result"
    }
   ],
   "source": [
    "#calculate manually \n",
    "# square each residual value\n",
    "df['residual^2'] = df.residuals ** 2\n",
    "\n",
    "df['residuals_baseline^2'] = df.residuals_baseline ** 2\n",
    "\n",
    "df.head(3)"
   ]
  },
  {
   "cell_type": "code",
   "execution_count": 17,
   "id": "dc07a90c-0898-4319-85e6-afaea73764d0",
   "metadata": {},
   "outputs": [
    {
     "name": "stdout",
     "output_type": "stream",
     "text": [
      "SSE =  252.78874385077597\n",
      "SSE  baseline =  465.21247704918085\n"
     ]
    }
   ],
   "source": [
    "# SSE\n",
    "SSE = sum(df['residual^2'])\n",
    "SSE_baseline = sum(df['residuals_baseline^2'])\n",
    "\n",
    "print(\"SSE = \", SSE)\n",
    "print(\"SSE  baseline = \", SSE_baseline)"
   ]
  },
  {
   "cell_type": "code",
   "execution_count": 18,
   "id": "a629c1a2-4aae-4cfa-b6c5-5d1971564520",
   "metadata": {},
   "outputs": [
    {
     "name": "stdout",
     "output_type": "stream",
     "text": [
      "SSE2 =  252.788743850776\n",
      "SSE2  baseline =  465.2124770491804\n"
     ]
    }
   ],
   "source": [
    "#calculate SSE using sklearn\n",
    "SSE2 = mean_squared_error(df.tip, df.yhat)*len(df)\n",
    "SSE2_baseline = mean_squared_error(df.tip, df.yhat_baseline)*len(df)\n",
    "print(\"SSE2 = \", SSE2)\n",
    "print(\"SSE2  baseline = \", SSE2_baseline) "
   ]
  },
  {
   "cell_type": "code",
   "execution_count": 19,
   "id": "c962f7ce-0d70-486b-807f-f8acff4097c0",
   "metadata": {},
   "outputs": [
    {
     "data": {
      "text/plain": [
       "0.45661658635167607"
      ]
     },
     "execution_count": 19,
     "metadata": {},
     "output_type": "execute_result"
    }
   ],
   "source": [
    "#Total Sum of Squares (TSS) is the sum of difference between \n",
    "#the actual final grade and the mean of all final grades. \n",
    "#It can also be derived by summing the ESS and SSE.\n",
    "ess = ((df.yhat - df.tip.mean())**2).sum()\n",
    "tss = ((df.tip - df.tip.mean())**2).sum()\n",
    "\n",
    "ess / tss"
   ]
  },
  {
   "cell_type": "code",
   "execution_count": 20,
   "id": "a7a890c4-2d8c-4f88-8e69-062581e9754d",
   "metadata": {},
   "outputs": [
    {
     "name": "stdout",
     "output_type": "stream",
     "text": [
      "SSE manual == SSE sklearn:  True\n",
      "SSE manual - baseline == SSE sklearn - baseline:  True\n"
     ]
    }
   ],
   "source": [
    "print(\"SSE manual == SSE sklearn: \", round (SSE,2) == round(SSE2,2)) \n",
    "print(\"SSE manual - baseline == SSE sklearn - baseline: \", round(SSE_baseline,2) == round (SSE2_baseline,2))"
   ]
  },
  {
   "cell_type": "code",
   "execution_count": 23,
   "id": "5c301dfc-b17f-4363-bdbb-fa092912cf46",
   "metadata": {},
   "outputs": [],
   "source": [
    "#We arrive at this by dividing your SSE by the total number of data points, i.e. the average of your errors that have each been squared. \n",
    "#If outliers don't matter as much, but cost exponential instead of linear, \n",
    "#then this is a good metric to use. That means that a residual of 10 (the expected value is 10 units off the actual value) is greater than twice a residual of 5"
   ]
  },
  {
   "cell_type": "code",
   "execution_count": 22,
   "id": "21bddc8f-0f49-4732-a526-3d3fbc4f2987",
   "metadata": {},
   "outputs": [
    {
     "name": "stdout",
     "output_type": "stream",
     "text": [
      "MSE =  1.0360194420113769\n",
      "MSE baseline =  1.9066085124966428\n"
     ]
    }
   ],
   "source": [
    "#calculate manually \n",
    "MSE = SSE/len(df)\n",
    "MSE_baseline = SSE_baseline/len(df)\n",
    "\n",
    "print(\"MSE = \", MSE)\n",
    "print(\"MSE baseline = \", MSE_baseline)"
   ]
  },
  {
   "cell_type": "code",
   "execution_count": 24,
   "id": "9352593b-2534-4ad6-be9f-3c7582094659",
   "metadata": {},
   "outputs": [
    {
     "name": "stdout",
     "output_type": "stream",
     "text": [
      "MSE =  1.036019442011377\n",
      "MSE baseline =  1.9066085124966428\n"
     ]
    }
   ],
   "source": [
    "# use sklearn\n",
    "MSE2 = mean_squared_error(df.tip, df.yhat)\n",
    "\n",
    "MSE2_baseline = mean_squared_error(df.tip, df.yhat_baseline)\n",
    "print(\"MSE = \", MSE2)\n",
    "print(\"MSE baseline = \", MSE_baseline)"
   ]
  },
  {
   "cell_type": "code",
   "execution_count": 25,
   "id": "224a33fb-0306-485e-847e-879a07e04463",
   "metadata": {},
   "outputs": [
    {
     "name": "stdout",
     "output_type": "stream",
     "text": [
      "MSE manual == MSE sklearn:  True\n",
      "MSE manual  baseline == MSE sklearn baseline:  True\n"
     ]
    }
   ],
   "source": [
    "print(\"MSE manual == MSE sklearn: \", round(MSE,3) == round( MSE2,3)) \n",
    "print(\"MSE manual  baseline == MSE sklearn baseline: \", round(MSE_baseline,3) == round(MSE2_baseline,3)) "
   ]
  },
  {
   "cell_type": "code",
   "execution_count": 26,
   "id": "23160d76-2c36-409e-bb22-f0bdc404108c",
   "metadata": {},
   "outputs": [
    {
     "name": "stdout",
     "output_type": "stream",
     "text": [
      "RMSE =  1.0178504025697377\n",
      "RMSE baseline =  1.3807999538298958\n"
     ]
    }
   ],
   "source": [
    "RMSE = sqrt(MSE)\n",
    "RMSE_baseline = sqrt(MSE_baseline)\n",
    "\n",
    "print(\"RMSE = \", RMSE)\n",
    "print(\"RMSE baseline = \", RMSE_baseline)"
   ]
  },
  {
   "cell_type": "code",
   "execution_count": 27,
   "id": "8170ef02-52f0-43a4-817d-4c223fddce35",
   "metadata": {},
   "outputs": [
    {
     "name": "stdout",
     "output_type": "stream",
     "text": [
      "SSE  baseline =  465.21247704918085\n"
     ]
    }
   ],
   "source": [
    "df['residuals_baseline^2'] = df.residuals_baseline ** 2\n",
    "SSE_baseline = sum(df['residuals_baseline^2'])\n",
    "\n",
    "print(\"SSE  baseline = \", SSE_baseline)"
   ]
  },
  {
   "cell_type": "code",
   "execution_count": 28,
   "id": "b5edbf7f-a080-4cfb-9ceb-dae0b3a18fde",
   "metadata": {},
   "outputs": [
    {
     "data": {
      "text/plain": [
       "0.0"
      ]
     },
     "execution_count": 28,
     "metadata": {},
     "output_type": "execute_result"
    }
   ],
   "source": [
    "ess_b = ((df.yhat_baseline - df.tip.mean())**2).sum()\n",
    "tss_b = ((df.tip - df.tip.mean())**2).sum()\n",
    "\n",
    "\n",
    "ess_b / tss_b"
   ]
  },
  {
   "cell_type": "code",
   "execution_count": 29,
   "id": "89a9df73-e72a-4c23-a2b7-3f43632628c0",
   "metadata": {},
   "outputs": [
    {
     "name": "stdout",
     "output_type": "stream",
     "text": [
      "RMSE baseline =  1.3807999538298958\n"
     ]
    }
   ],
   "source": [
    "RMSE_baseline = sqrt(MSE_baseline)\n",
    "\n",
    "print(\"RMSE baseline = \", RMSE_baseline)"
   ]
  },
  {
   "cell_type": "code",
   "execution_count": 30,
   "id": "9b6bd3df-e1b4-4f39-926c-fc4d1e02ab2b",
   "metadata": {},
   "outputs": [
    {
     "name": "stdout",
     "output_type": "stream",
     "text": [
      " Your model perfomed better that baseline\n"
     ]
    }
   ],
   "source": [
    "if SSE < SSE_baseline :\n",
    "    print (\" Your model perfomed better that baseline\")\n",
    "else: \n",
    "    print (\"your model performed bellow the baseline\")"
   ]
  },
  {
   "cell_type": "code",
   "execution_count": 31,
   "id": "2e35bbc1-670b-48fd-89c0-de6fda18885a",
   "metadata": {},
   "outputs": [
    {
     "data": {
      "text/plain": [
       "0.45661658635167657"
      ]
     },
     "execution_count": 31,
     "metadata": {},
     "output_type": "execute_result"
    }
   ],
   "source": [
    "r2_score(df.tip, df.yhat)"
   ]
  },
  {
   "cell_type": "code",
   "execution_count": 32,
   "id": "cc35f5ea-8be6-44bd-87af-e8bb369f0a92",
   "metadata": {},
   "outputs": [
    {
     "data": {
      "text/plain": [
       "0.4566165863516767"
      ]
     },
     "execution_count": 32,
     "metadata": {},
     "output_type": "execute_result"
    }
   ],
   "source": [
    "explained_variance_score(df.tip, df.yhat)"
   ]
  },
  {
   "cell_type": "code",
   "execution_count": 33,
   "id": "a2b08ad0-4474-4f1d-abce-ba2ffd67f7f7",
   "metadata": {},
   "outputs": [],
   "source": [
    "def plot_residuals ( df, y, yhat ):\n",
    "    '''\n",
    "    Takes in a dataframe , y = column with actual_values and yhat= name of the columns with predicted_values\n",
    "    and creates a residual plot\n",
    "    \n",
    "    Example:\n",
    "    plot_residuals(df, 'tip', 'yhat')\n",
    "    '''\n",
    "\n",
    "\n",
    "    \n",
    "    #baseline\n",
    "    df['yhat_baseline'] = df[y].mean()\n",
    "\n",
    "\n",
    "    # residuals\n",
    "    df['residuals'] = df[yhat] - df[y]\n",
    "    df['residuals_baseline'] = df ['yhat_baseline'] - df[y]\n",
    "\n",
    "    # plot\n",
    "    fig, ax = plt.subplots(figsize=(13, 7))\n",
    "    ax.hist(df.residuals_baseline, label='baseline residuals', alpha=.6)\n",
    "    ax.hist(df.residuals, label='model residuals', alpha=.6)\n",
    "    ax.legend()\n",
    "    plt.show()\n",
    "    return"
   ]
  },
  {
   "cell_type": "code",
   "execution_count": 34,
   "id": "ad4a29f0-bd5a-4c6c-8c31-993b090f22c3",
   "metadata": {},
   "outputs": [
    {
     "data": {
      "image/png": "[encoded data removed]",
      "text/plain": [
       "<Figure size 936x504 with 1 Axes>"
      ]
     },
     "metadata": {
      "needs_background": "light"
     },
     "output_type": "display_data"
    }
   ],
   "source": [
    "plot_residuals(df, 'tip', 'yhat')"
   ]
  },
  {
   "cell_type": "code",
   "execution_count": 35,
   "id": "151f1f7e-14eb-4085-b9b6-db831a602063",
   "metadata": {},
   "outputs": [],
   "source": [
    "def plot_residuals2(actual, predicted):\n",
    "    residuals = actual - predicted\n",
    "    plt.hlines(0, actual.min(), actual.max(), ls=':')\n",
    "    plt.scatter(actual, residuals)\n",
    "    plt.ylabel('residual ($y - \\hat{y}$)')\n",
    "    plt.xlabel('actual value ($y$)')\n",
    "    plt.title('Actual vs Residual')\n",
    "    return plt.gca()"
   ]
  },
  {
   "cell_type": "code",
   "execution_count": 36,
   "id": "4c5ef4f7-d089-4b3d-873d-9aec385f16ae",
   "metadata": {},
   "outputs": [
    {
     "data": {
      "text/plain": [
       "<AxesSubplot:title={'center':'Actual vs Residual'}, xlabel='actual value ($y$)', ylabel='residual ($y - \\\\hat{y}$)'>"
      ]
     },
     "execution_count": 36,
     "metadata": {},
     "output_type": "execute_result"
    },
    {
     "data": {
      "image/png": "[encoded data removed]",
      "text/plain": [
       "<Figure size 432x288 with 1 Axes>"
      ]
     },
     "metadata": {
      "needs_background": "light"
     },
     "output_type": "display_data"
    }
   ],
   "source": [
    "plot_residuals2( df['tip'], df['yhat'])"
   ]
  },
  {
   "cell_type": "code",
   "execution_count": 37,
   "id": "9111daaa-3e66-42ce-b59a-3e01d2c9e41c",
   "metadata": {},
   "outputs": [],
   "source": [
    "def regression_errors(df, y, yhat):\n",
    "    '''\n",
    "    Takes in a dataframe , y = column with actual_values and yhat= name of the columns with predicted_values\n",
    "    and calculate:\n",
    "    sum of squared errors (SSE)\n",
    "    explained sum of squares (ESS)\n",
    "    total sum of squares (TSS)\n",
    "    mean squared error (MSE)\n",
    "    root mean squared error (RMSE)\n",
    "    \n",
    "    Example:\n",
    "    plot_residuals(df, 'tip', 'yhat')\n",
    "    '''\n",
    "    #import\n",
    "    from sklearn.metrics import  mean_squared_error\n",
    "    from math import sqrt\n",
    "    \n",
    "    \n",
    "    #calculate SSE using sklearn\n",
    "    SSE = mean_squared_error(df[y], df[yhat])*len(df)\n",
    "    #explained sum of squares (ESS)\n",
    "    ESS = ((df[yhat] - df[y].mean())**2).sum()\n",
    "    #total sum of squares (TSS)\n",
    "    TSS = ((df[y] - df[y].mean())**2).sum()\n",
    "    #mean squared error (MSE)\n",
    "    MSE = mean_squared_error(df[y], df[yhat])\n",
    "    #root mean squared error (RMSE)\n",
    "    RMSE = sqrt(MSE)\n",
    "    \n",
    "    #create a dictionary\n",
    "    m= {\n",
    "        'sse': SSE,\n",
    "        'ess': ESS,\n",
    "        'rmse': RMSE,\n",
    "        'tss': TSS,\n",
    "        'mse': MSE,\n",
    "        'r2': ESS/TSS,\n",
    "    }\n",
    "\n",
    "    return m"
   ]
  },
  {
   "cell_type": "code",
   "execution_count": 45,
   "id": "e9c55fc7-f8e8-4bf6-9da0-843c19543b80",
   "metadata": {},
   "outputs": [],
   "source": [
    "def baseline_mean_errors(df, y):\n",
    "    '''\n",
    "    Takes in a dataframe , y = column with actual_values \n",
    "    and calculate:\n",
    "    sum of squared errors (SSE)\n",
    "    explained sum of squares (ESS)\n",
    "    total sum of squares (TSS)\n",
    "    mean squared error (MSE)\n",
    "    root mean squared error (RMSE)\n",
    "\n",
    "    Example:\n",
    "    plot_residuals(df, 'tip')\n",
    "    '''\n",
    "    #import\n",
    "    from sklearn.metrics import  mean_squared_error\n",
    "    from math import sqrt\n",
    "\n",
    "    #baseline\n",
    "    df['yhat_baseline'] = df[y].mean()\n",
    "\n",
    "    #calculate SSE using sklearn\n",
    "    SSE_baseline = mean_squared_error(df[y], df['yhat_baseline'])*len(df)\n",
    "    #explained sum of squares (ESS)\n",
    "    ESS_b = ((df.yhat_baseline - df[y].mean())**2).sum()\n",
    "    #total sum of squares (TSS)\n",
    "    TSS_b = ((df[y] - df[y].mean())**2).sum()\n",
    "    #mean squared error (MSE)\n",
    "    MSE_baseline = mean_squared_error(df[y], df.yhat_baseline)\n",
    "    #root mean squared error (RMSE)\n",
    "    RMSE_baseline = sqrt(MSE_baseline)\n",
    "    \n",
    "    #create dicc\n",
    "    b ={\n",
    "        'sse': SSE_baseline,\n",
    "        'mse': MSE_baseline,\n",
    "        'rmse': RMSE_baseline,\n",
    "         'tss': TSS_b,\n",
    "        'ess' : ESS_b,\n",
    "        'mse': MSE_baseline,\n",
    "        'r2': ESS_b/TSS_b,       \n",
    "    }\n",
    "\n",
    "    return b"
   ]
  },
  {
   "cell_type": "code",
   "execution_count": 46,
   "id": "92b11ece-9208-4336-bc93-395a8e17b7dc",
   "metadata": {},
   "outputs": [],
   "source": [
    "r = baseline_mean_errors(df,'tip')"
   ]
  },
  {
   "cell_type": "code",
   "execution_count": 43,
   "id": "98caeef5-b7e9-4a6d-9131-148c8a2f06c2",
   "metadata": {},
   "outputs": [],
   "source": [
    "def better_than_baseline(df, y, yhat):\n",
    "    '''\n",
    "    Takes in a df, column with actual values,  and predicted values\n",
    "    and returns true if your model performs better than the baseline, otherwise false\n",
    "    '''    \n",
    "    from IPython.display import display, HTML\n",
    "    #baseline \n",
    "    b = baseline_mean_errors(df,y)\n",
    "    #Model\n",
    "    m = regression_errors(df, y, yhat)\n",
    "    \n",
    "    df1 = pd.DataFrame(m, index= ['model'])\n",
    "    df2 =pd.DataFrame(r, index= ['baseline'])\n",
    "    table =pd.concat([df2, df1]).T\n",
    "    display(HTML(table.to_html()))\n",
    "    print('   ')\n",
    "\n",
    "    if m['rmse']< b['rmse']:\n",
    "        print ('Model performs better than the baseline: ',m['rmse']< b['rmse'] )\n",
    "    else:\n",
    "        print ('Model performs better than the baseline: ',m['rmse']< b['rmse'] )\n",
    "    \n",
    "    return\n",
    "    "
   ]
  },
  {
   "cell_type": "code",
   "execution_count": 47,
   "id": "690fba79-adcb-464e-b11d-9fd85dd524f6",
   "metadata": {},
   "outputs": [
    {
     "data": {
      "text/html": [
       "<table border=\"1\" class=\"dataframe\">\n",
       "  <thead>\n",
       "    <tr style=\"text-align: right;\">\n",
       "      <th></th>\n",
       "      <th>baseline</th>\n",
       "      <th>model</th>\n",
       "    </tr>\n",
       "  </thead>\n",
       "  <tbody>\n",
       "    <tr>\n",
       "      <th>sse</th>\n",
       "      <td>465.212477</td>\n",
       "      <td>252.788744</td>\n",
       "    </tr>\n",
       "    <tr>\n",
       "      <th>mse</th>\n",
       "      <td>1.906609</td>\n",
       "      <td>1.036019</td>\n",
       "    </tr>\n",
       "    <tr>\n",
       "      <th>rmse</th>\n",
       "      <td>1.380800</td>\n",
       "      <td>1.017850</td>\n",
       "    </tr>\n",
       "    <tr>\n",
       "      <th>tss</th>\n",
       "      <td>465.212477</td>\n",
       "      <td>465.212477</td>\n",
       "    </tr>\n",
       "    <tr>\n",
       "      <th>ess</th>\n",
       "      <td>0.000000</td>\n",
       "      <td>212.423733</td>\n",
       "    </tr>\n",
       "    <tr>\n",
       "      <th>r2</th>\n",
       "      <td>0.000000</td>\n",
       "      <td>0.456617</td>\n",
       "    </tr>\n",
       "  </tbody>\n",
       "</table>"
      ],
      "text/plain": [
       "<IPython.core.display.HTML object>"
      ]
     },
     "metadata": {},
     "output_type": "display_data"
    },
    {
     "name": "stdout",
     "output_type": "stream",
     "text": [
      "   \n",
      "Model performs better than the baseline:  True\n"
     ]
    }
   ],
   "source": [
    "better_than_baseline(df, 'tip', 'yhat')"
   ]
  },
  {
   "cell_type": "code",
   "execution_count": 48,
   "id": "00e18a12-ca9b-41d1-a245-132720fcca0c",
   "metadata": {},
   "outputs": [],
   "source": [
    "mpg = data('mpg')"
   ]
  },
  {
   "cell_type": "code",
   "execution_count": 49,
   "id": "f176c9b4-9571-43ba-bcd2-c353638c0893",
   "metadata": {},
   "outputs": [],
   "source": [
    "#baseline\n",
    "mpg['yhat_baseline'] = mpg['hwy'].mean()"
   ]
  },
  {
   "cell_type": "code",
   "execution_count": 50,
   "id": "2d8afa21-9317-47c6-887b-a4d8f7b99a72",
   "metadata": {},
   "outputs": [],
   "source": [
    "#create a model\n",
    "#model = LinearRegression().fit(X, y)\n",
    "model2 = LinearRegression().fit(mpg[['displ']], mpg['hwy'])"
   ]
  },
  {
   "cell_type": "code",
   "execution_count": 51,
   "id": "cc8ab4e0-0da0-414b-817f-933827604eab",
   "metadata": {},
   "outputs": [],
   "source": [
    "# compute predictions and add to original dataframe\n",
    "mpg['yhat']= model2.predict(mpg[['displ']])"
   ]
  },
  {
   "cell_type": "code",
   "execution_count": 52,
   "id": "0127b36d-87f9-444f-9d32-0cffdd9e93a9",
   "metadata": {},
   "outputs": [
    {
     "data": {
      "image/png": "[encoded data removed]",
      "text/plain": [
       "<Figure size 864x504 with 1 Axes>"
      ]
     },
     "metadata": {
      "needs_background": "light"
     },
     "output_type": "display_data"
    }
   ],
   "source": [
    "#plot\n",
    "fig, ax = plt.subplots(figsize=(12, 7))\n",
    "ax.scatter(mpg.displ, mpg.yhat_baseline, label='baseline')\n",
    "ax.scatter(mpg.displ, mpg.hwy, label='actual')\n",
    "ax.scatter(mpg.displ, mpg.yhat, label='prediction')\n",
    "plt.show()"
   ]
  },
  {
   "cell_type": "code",
   "execution_count": 53,
   "id": "f3690ac5-1f7e-402a-bba7-893d8c82e8be",
   "metadata": {},
   "outputs": [
    {
     "data": {
      "text/plain": [
       "{'sse': 3413.829008995467,\n",
       " 'ess': 4847.833384166924,\n",
       " 'rmse': 3.8195566312014524,\n",
       " 'tss': 8261.66239316239,\n",
       " 'mse': 14.589012858954987,\n",
       " 'r2': 0.5867866723989038}"
      ]
     },
     "execution_count": 53,
     "metadata": {},
     "output_type": "execute_result"
    }
   ],
   "source": [
    "evaluate.regression_errors(mpg, 'hwy', 'yhat')"
   ]
  },
  {
   "cell_type": "code",
   "execution_count": 54,
   "id": "80186639-b95b-4e74-853e-6493f043919f",
   "metadata": {},
   "outputs": [
    {
     "data": {
      "text/html": [
       "<table border=\"1\" class=\"dataframe\">\n",
       "  <thead>\n",
       "    <tr style=\"text-align: right;\">\n",
       "      <th></th>\n",
       "      <th>baseline</th>\n",
       "      <th>model</th>\n",
       "    </tr>\n",
       "  </thead>\n",
       "  <tbody>\n",
       "    <tr>\n",
       "      <th>sse</th>\n",
       "      <td>8261.662393</td>\n",
       "      <td>3413.829009</td>\n",
       "    </tr>\n",
       "    <tr>\n",
       "      <th>mse</th>\n",
       "      <td>35.306250</td>\n",
       "      <td>14.589013</td>\n",
       "    </tr>\n",
       "    <tr>\n",
       "      <th>rmse</th>\n",
       "      <td>5.941906</td>\n",
       "      <td>3.819557</td>\n",
       "    </tr>\n",
       "    <tr>\n",
       "      <th>tss</th>\n",
       "      <td>8261.662393</td>\n",
       "      <td>8261.662393</td>\n",
       "    </tr>\n",
       "    <tr>\n",
       "      <th>ess</th>\n",
       "      <td>0.000000</td>\n",
       "      <td>4847.833384</td>\n",
       "    </tr>\n",
       "    <tr>\n",
       "      <th>r2</th>\n",
       "      <td>0.000000</td>\n",
       "      <td>0.586787</td>\n",
       "    </tr>\n",
       "  </tbody>\n",
       "</table>"
      ],
      "text/plain": [
       "<IPython.core.display.HTML object>"
      ]
     },
     "metadata": {},
     "output_type": "display_data"
    },
    {
     "name": "stdout",
     "output_type": "stream",
     "text": [
      "   \n",
      "Model performs better than the baseline:  True\n"
     ]
    }
   ],
   "source": [
    "evaluate.better_than_baseline(mpg,'hwy', 'yhat')"
   ]
  },
  {
   "cell_type": "code",
   "execution_count": 55,
   "id": "0ff6fe7a-c0d6-4eca-9784-0aaedd6f82d1",
   "metadata": {},
   "outputs": [
    {
     "data": {
      "image/png": "[encoded data removed]",
      "text/plain": [
       "<Figure size 936x504 with 1 Axes>"
      ]
     },
     "metadata": {
      "needs_background": "light"
     },
     "output_type": "display_data"
    }
   ],
   "source": [
    "evaluate.plot_residuals(mpg,'hwy', 'yhat')"
   ]
  },
  {
   "cell_type": "code",
   "execution_count": 56,
   "id": "03a7c94d-781e-4e18-a288-8152899798dc",
   "metadata": {},
   "outputs": [
    {
     "data": {
      "text/plain": [
       "<AxesSubplot:title={'center':'Actual vs Residual'}, xlabel='actual value ($y$)', ylabel='residual ($y - \\\\hat{y}$)'>"
      ]
     },
     "execution_count": 56,
     "metadata": {},
     "output_type": "execute_result"
    },
    {
     "data": {
      "image/png": "[encoded data removed]",
      "text/plain": [
       "<Figure size 432x288 with 1 Axes>"
      ]
     },
     "metadata": {
      "needs_background": "light"
     },
     "output_type": "display_data"
    }
   ],
   "source": [
    "plot_residuals2(mpg['hwy'], mpg['yhat'])"
   ]
  },
  {
   "cell_type": "code",
   "execution_count": null,
   "id": "ab39b3ca-75d4-4186-ae1a-5ed95cba0e56",
   "metadata": {},
   "outputs": [],
   "source": []
  }
 ],
 "metadata": {
  "kernelspec": {
   "display_name": "Python 3 (ipykernel)",
   "language": "python",
   "name": "python3"
  },
  "language_info": {
   "codemirror_mode": {
    "name": "ipython",
    "version": 3
   },
   "file_extension": ".py",
   "mimetype": "text/x-python",
   "name": "python",
   "nbconvert_exporter": "python",
   "pygments_lexer": "ipython3",
   "version": "3.9.7"
  }
 },
 "nbformat": 4,
 "nbformat_minor": 5
}
