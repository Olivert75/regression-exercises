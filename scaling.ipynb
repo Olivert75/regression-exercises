{
 "cells": [
  {
   "cell_type": "code",
   "execution_count": 12,
   "id": "8055c616-2349-4be7-85a3-aff6aac2fda4",
   "metadata": {},
   "outputs": [],
   "source": [
    "import warnings\n",
    "warnings.filterwarnings(\"ignore\")\n",
    "\n",
    "import pandas as pd\n",
    "import matplotlib.pyplot as plt\n",
    "import seaborn as sns\n",
    "import numpy as np\n",
    "from sklearn.model_selection import train_test_split\n",
    "from scipy import stats\n",
    "from sklearn.preprocessing import MinMaxScaler, RobustScaler, StandardScaler, QuantileTransformer\n",
    "\n",
    "#import my modules\n",
    "import acquire \n",
    "import prepare \n",
    "import wrangle "
   ]
  },
  {
   "cell_type": "markdown",
   "id": "ced7f754-eae8-4a02-9e2e-9d38cfb54477",
   "metadata": {},
   "source": [
    "Do your work for these exercises in a jupyter notebook named scaling. Use the zillow dataset you acquired and prepped in previous lesson. Once you are finished, you may wish to repeat the exercises on another dataset for additional practice.\n",
    "\n",
    "Apply the scalers we talked about in this lesson to your data and visualize the results for the unscaled and scaled distribution .\n"
   ]
  },
  {
   "cell_type": "code",
   "execution_count": 13,
   "id": "ad9b2ca9-7882-4aa2-aa34-5a32ff7a5d31",
   "metadata": {},
   "outputs": [],
   "source": [
    "df = wrangle.wrangle_zillow()"
   ]
  },
  {
   "cell_type": "code",
   "execution_count": 18,
   "id": "e1f5e2a8-cd3a-4647-95c3-051fd4b88150",
   "metadata": {},
   "outputs": [
    {
     "name": "stdout",
     "output_type": "stream",
     "text": [
      "<class 'pandas.core.frame.DataFrame'>\n",
      "Int64Index: 2074798 entries, 4 to 2152862\n",
      "Data columns (total 7 columns):\n",
      " #   Column                        Non-Null Count    Dtype  \n",
      "---  ------                        --------------    -----  \n",
      " 0   bedroomcnt                    2074798 non-null  int64  \n",
      " 1   bathroomcnt                   2074798 non-null  float64\n",
      " 2   calculatedfinishedsquarefeet  2074798 non-null  float64\n",
      " 3   taxvaluedollarcnt             2074798 non-null  float64\n",
      " 4   yearbuilt                     2074798 non-null  int64  \n",
      " 5   taxamount                     2074798 non-null  float64\n",
      " 6   fips                          2074798 non-null  int64  \n",
      "dtypes: float64(4), int64(3)\n",
      "memory usage: 126.6 MB\n"
     ]
    }
   ],
   "source": [
    "df.info(null_counts=True)"
   ]
  },
  {
   "cell_type": "code",
   "execution_count": 14,
   "id": "817c0d77-a329-4474-a712-890d7de6ec7b",
   "metadata": {},
   "outputs": [
    {
     "data": {
      "text/html": [
       "<div>\n",
       "<style scoped>\n",
       "    .dataframe tbody tr th:only-of-type {\n",
       "        vertical-align: middle;\n",
       "    }\n",
       "\n",
       "    .dataframe tbody tr th {\n",
       "        vertical-align: top;\n",
       "    }\n",
       "\n",
       "    .dataframe thead th {\n",
       "        text-align: right;\n",
       "    }\n",
       "</style>\n",
       "<table border=\"1\" class=\"dataframe\">\n",
       "  <thead>\n",
       "    <tr style=\"text-align: right;\">\n",
       "      <th></th>\n",
       "      <th>bedroomcnt</th>\n",
       "      <th>bathroomcnt</th>\n",
       "      <th>calculatedfinishedsquarefeet</th>\n",
       "      <th>taxvaluedollarcnt</th>\n",
       "      <th>yearbuilt</th>\n",
       "      <th>taxamount</th>\n",
       "      <th>fips</th>\n",
       "    </tr>\n",
       "  </thead>\n",
       "  <tbody>\n",
       "    <tr>\n",
       "      <th>4</th>\n",
       "      <td>4</td>\n",
       "      <td>2.0</td>\n",
       "      <td>3633.0</td>\n",
       "      <td>296425.0</td>\n",
       "      <td>2005</td>\n",
       "      <td>6941.39</td>\n",
       "      <td>6037</td>\n",
       "    </tr>\n",
       "    <tr>\n",
       "      <th>6</th>\n",
       "      <td>3</td>\n",
       "      <td>4.0</td>\n",
       "      <td>1620.0</td>\n",
       "      <td>847770.0</td>\n",
       "      <td>2011</td>\n",
       "      <td>10244.94</td>\n",
       "      <td>6037</td>\n",
       "    </tr>\n",
       "    <tr>\n",
       "      <th>7</th>\n",
       "      <td>3</td>\n",
       "      <td>2.0</td>\n",
       "      <td>2077.0</td>\n",
       "      <td>646760.0</td>\n",
       "      <td>1926</td>\n",
       "      <td>7924.68</td>\n",
       "      <td>6037</td>\n",
       "    </tr>\n",
       "    <tr>\n",
       "      <th>18</th>\n",
       "      <td>3</td>\n",
       "      <td>1.0</td>\n",
       "      <td>1244.0</td>\n",
       "      <td>169471.0</td>\n",
       "      <td>1950</td>\n",
       "      <td>2532.88</td>\n",
       "      <td>6037</td>\n",
       "    </tr>\n",
       "    <tr>\n",
       "      <th>19</th>\n",
       "      <td>3</td>\n",
       "      <td>2.0</td>\n",
       "      <td>1300.0</td>\n",
       "      <td>233266.0</td>\n",
       "      <td>1950</td>\n",
       "      <td>3110.99</td>\n",
       "      <td>6037</td>\n",
       "    </tr>\n",
       "  </tbody>\n",
       "</table>\n",
       "</div>"
      ],
      "text/plain": [
       "    bedroomcnt  bathroomcnt  calculatedfinishedsquarefeet  taxvaluedollarcnt  \\\n",
       "4            4          2.0                        3633.0           296425.0   \n",
       "6            3          4.0                        1620.0           847770.0   \n",
       "7            3          2.0                        2077.0           646760.0   \n",
       "18           3          1.0                        1244.0           169471.0   \n",
       "19           3          2.0                        1300.0           233266.0   \n",
       "\n",
       "    yearbuilt  taxamount  fips  \n",
       "4        2005    6941.39  6037  \n",
       "6        2011   10244.94  6037  \n",
       "7        1926    7924.68  6037  \n",
       "18       1950    2532.88  6037  \n",
       "19       1950    3110.99  6037  "
      ]
     },
     "execution_count": 14,
     "metadata": {},
     "output_type": "execute_result"
    }
   ],
   "source": [
    "df.head()"
   ]
  },
  {
   "cell_type": "code",
   "execution_count": 15,
   "id": "b8a93f21-fd6c-44d2-a0ec-aa7a4d27e664",
   "metadata": {},
   "outputs": [
    {
     "name": "stdout",
     "output_type": "stream",
     "text": [
      "train -> (1161886, 7)\n",
      "validate -> (497952, 7)\n",
      "test -> (414960, 7)\n"
     ]
    }
   ],
   "source": [
    "train, validate, test = wrangle.split_data(df)"
   ]
  },
  {
   "cell_type": "code",
   "execution_count": 31,
   "id": "32118206-1d54-4715-86dc-58c870818e47",
   "metadata": {},
   "outputs": [],
   "source": [
    "scaler_mc = MinMaxScaler()"
   ]
  },
  {
   "cell_type": "code",
   "execution_count": 32,
   "id": "f765995d-0a9a-4c96-8b80-42255978918c",
   "metadata": {},
   "outputs": [
    {
     "data": {
      "text/plain": [
       "MinMaxScaler()"
      ]
     },
     "execution_count": 32,
     "metadata": {},
     "output_type": "execute_result"
    }
   ],
   "source": [
    "scaler_mc.fit(train)"
   ]
  },
  {
   "cell_type": "code",
   "execution_count": 33,
   "id": "2a7d8f91-61ce-4e63-a30a-51759d80a43e",
   "metadata": {},
   "outputs": [],
   "source": [
    "train_scaled = scaler_mc.transform(train)"
   ]
  },
  {
   "cell_type": "code",
   "execution_count": 37,
   "id": "18186756-6fda-47c3-92b6-6ec2f80044f1",
   "metadata": {},
   "outputs": [],
   "source": [
    "#Combine fit and transform together\n",
    "train_scaled2 = scaler_mc.fit_transform(train)"
   ]
  },
  {
   "cell_type": "code",
   "execution_count": 35,
   "id": "08d23841-da0e-4870-a91d-a0605cbfc298",
   "metadata": {},
   "outputs": [],
   "source": [
    "train_scaled = pd.DataFrame(train_scaled, columns=train.columns)"
   ]
  },
  {
   "cell_type": "code",
   "execution_count": 39,
   "id": "03339450-d079-428b-96dc-fe75e9fb9466",
   "metadata": {},
   "outputs": [],
   "source": [
    "train_scaled2 = pd.DataFrame(train_scaled2, columns=train.columns)"
   ]
  },
  {
   "cell_type": "code",
   "execution_count": 40,
   "id": "ff7242e9-456e-4955-a882-5a2a03f5896d",
   "metadata": {},
   "outputs": [
    {
     "data": {
      "text/html": [
       "<div>\n",
       "<style scoped>\n",
       "    .dataframe tbody tr th:only-of-type {\n",
       "        vertical-align: middle;\n",
       "    }\n",
       "\n",
       "    .dataframe tbody tr th {\n",
       "        vertical-align: top;\n",
       "    }\n",
       "\n",
       "    .dataframe thead th {\n",
       "        text-align: right;\n",
       "    }\n",
       "</style>\n",
       "<table border=\"1\" class=\"dataframe\">\n",
       "  <thead>\n",
       "    <tr style=\"text-align: right;\">\n",
       "      <th></th>\n",
       "      <th>bedroomcnt</th>\n",
       "      <th>bathroomcnt</th>\n",
       "      <th>calculatedfinishedsquarefeet</th>\n",
       "      <th>taxvaluedollarcnt</th>\n",
       "      <th>yearbuilt</th>\n",
       "      <th>taxamount</th>\n",
       "      <th>fips</th>\n",
       "    </tr>\n",
       "  </thead>\n",
       "  <tbody>\n",
       "    <tr>\n",
       "      <th>0</th>\n",
       "      <td>0.222222</td>\n",
       "      <td>0.100</td>\n",
       "      <td>0.000937</td>\n",
       "      <td>0.003751</td>\n",
       "      <td>0.716279</td>\n",
       "      <td>0.004155</td>\n",
       "      <td>1.000000</td>\n",
       "    </tr>\n",
       "    <tr>\n",
       "      <th>1</th>\n",
       "      <td>0.277778</td>\n",
       "      <td>0.125</td>\n",
       "      <td>0.001386</td>\n",
       "      <td>0.007173</td>\n",
       "      <td>0.758140</td>\n",
       "      <td>0.007103</td>\n",
       "      <td>0.297297</td>\n",
       "    </tr>\n",
       "    <tr>\n",
       "      <th>2</th>\n",
       "      <td>0.222222</td>\n",
       "      <td>0.100</td>\n",
       "      <td>0.000592</td>\n",
       "      <td>0.006488</td>\n",
       "      <td>0.753488</td>\n",
       "      <td>0.006075</td>\n",
       "      <td>0.297297</td>\n",
       "    </tr>\n",
       "    <tr>\n",
       "      <th>3</th>\n",
       "      <td>0.166667</td>\n",
       "      <td>0.050</td>\n",
       "      <td>0.000576</td>\n",
       "      <td>0.003656</td>\n",
       "      <td>0.553488</td>\n",
       "      <td>0.003667</td>\n",
       "      <td>0.000000</td>\n",
       "    </tr>\n",
       "    <tr>\n",
       "      <th>4</th>\n",
       "      <td>0.166667</td>\n",
       "      <td>0.100</td>\n",
       "      <td>0.000877</td>\n",
       "      <td>0.003492</td>\n",
       "      <td>0.846512</td>\n",
       "      <td>0.003589</td>\n",
       "      <td>0.000000</td>\n",
       "    </tr>\n",
       "  </tbody>\n",
       "</table>\n",
       "</div>"
      ],
      "text/plain": [
       "   bedroomcnt  bathroomcnt  calculatedfinishedsquarefeet  taxvaluedollarcnt  \\\n",
       "0    0.222222        0.100                      0.000937           0.003751   \n",
       "1    0.277778        0.125                      0.001386           0.007173   \n",
       "2    0.222222        0.100                      0.000592           0.006488   \n",
       "3    0.166667        0.050                      0.000576           0.003656   \n",
       "4    0.166667        0.100                      0.000877           0.003492   \n",
       "\n",
       "   yearbuilt  taxamount      fips  \n",
       "0   0.716279   0.004155  1.000000  \n",
       "1   0.758140   0.007103  0.297297  \n",
       "2   0.753488   0.006075  0.297297  \n",
       "3   0.553488   0.003667  0.000000  \n",
       "4   0.846512   0.003589  0.000000  "
      ]
     },
     "execution_count": 40,
     "metadata": {},
     "output_type": "execute_result"
    }
   ],
   "source": [
    "train_scaled.head()\n"
   ]
  },
  {
   "cell_type": "code",
   "execution_count": 41,
   "id": "970c2695-9395-4424-b4ff-ca052ab4d0b3",
   "metadata": {},
   "outputs": [
    {
     "data": {
      "text/html": [
       "<div>\n",
       "<style scoped>\n",
       "    .dataframe tbody tr th:only-of-type {\n",
       "        vertical-align: middle;\n",
       "    }\n",
       "\n",
       "    .dataframe tbody tr th {\n",
       "        vertical-align: top;\n",
       "    }\n",
       "\n",
       "    .dataframe thead th {\n",
       "        text-align: right;\n",
       "    }\n",
       "</style>\n",
       "<table border=\"1\" class=\"dataframe\">\n",
       "  <thead>\n",
       "    <tr style=\"text-align: right;\">\n",
       "      <th></th>\n",
       "      <th>bedroomcnt</th>\n",
       "      <th>bathroomcnt</th>\n",
       "      <th>calculatedfinishedsquarefeet</th>\n",
       "      <th>taxvaluedollarcnt</th>\n",
       "      <th>yearbuilt</th>\n",
       "      <th>taxamount</th>\n",
       "      <th>fips</th>\n",
       "    </tr>\n",
       "  </thead>\n",
       "  <tbody>\n",
       "    <tr>\n",
       "      <th>0</th>\n",
       "      <td>0.222222</td>\n",
       "      <td>0.100</td>\n",
       "      <td>0.000937</td>\n",
       "      <td>0.003751</td>\n",
       "      <td>0.716279</td>\n",
       "      <td>0.004155</td>\n",
       "      <td>1.000000</td>\n",
       "    </tr>\n",
       "    <tr>\n",
       "      <th>1</th>\n",
       "      <td>0.277778</td>\n",
       "      <td>0.125</td>\n",
       "      <td>0.001386</td>\n",
       "      <td>0.007173</td>\n",
       "      <td>0.758140</td>\n",
       "      <td>0.007103</td>\n",
       "      <td>0.297297</td>\n",
       "    </tr>\n",
       "    <tr>\n",
       "      <th>2</th>\n",
       "      <td>0.222222</td>\n",
       "      <td>0.100</td>\n",
       "      <td>0.000592</td>\n",
       "      <td>0.006488</td>\n",
       "      <td>0.753488</td>\n",
       "      <td>0.006075</td>\n",
       "      <td>0.297297</td>\n",
       "    </tr>\n",
       "    <tr>\n",
       "      <th>3</th>\n",
       "      <td>0.166667</td>\n",
       "      <td>0.050</td>\n",
       "      <td>0.000576</td>\n",
       "      <td>0.003656</td>\n",
       "      <td>0.553488</td>\n",
       "      <td>0.003667</td>\n",
       "      <td>0.000000</td>\n",
       "    </tr>\n",
       "    <tr>\n",
       "      <th>4</th>\n",
       "      <td>0.166667</td>\n",
       "      <td>0.100</td>\n",
       "      <td>0.000877</td>\n",
       "      <td>0.003492</td>\n",
       "      <td>0.846512</td>\n",
       "      <td>0.003589</td>\n",
       "      <td>0.000000</td>\n",
       "    </tr>\n",
       "  </tbody>\n",
       "</table>\n",
       "</div>"
      ],
      "text/plain": [
       "   bedroomcnt  bathroomcnt  calculatedfinishedsquarefeet  taxvaluedollarcnt  \\\n",
       "0    0.222222        0.100                      0.000937           0.003751   \n",
       "1    0.277778        0.125                      0.001386           0.007173   \n",
       "2    0.222222        0.100                      0.000592           0.006488   \n",
       "3    0.166667        0.050                      0.000576           0.003656   \n",
       "4    0.166667        0.100                      0.000877           0.003492   \n",
       "\n",
       "   yearbuilt  taxamount      fips  \n",
       "0   0.716279   0.004155  1.000000  \n",
       "1   0.758140   0.007103  0.297297  \n",
       "2   0.753488   0.006075  0.297297  \n",
       "3   0.553488   0.003667  0.000000  \n",
       "4   0.846512   0.003589  0.000000  "
      ]
     },
     "execution_count": 41,
     "metadata": {},
     "output_type": "execute_result"
    }
   ],
   "source": [
    "train_scaled2.head()"
   ]
  },
  {
   "cell_type": "code",
   "execution_count": 27,
   "id": "8969274d-da06-4902-b856-31e7082c21de",
   "metadata": {},
   "outputs": [
    {
     "data": {
      "text/plain": [
       "<AxesSubplot:>"
      ]
     },
     "execution_count": 27,
     "metadata": {},
     "output_type": "execute_result"
    },
    {
     "data": {
      "image/png": "[encoded data removed]",
      "text/plain": [
       "<Figure size 432x288 with 1 Axes>"
      ]
     },
     "metadata": {
      "needs_background": "light"
     },
     "output_type": "display_data"
    }
   ],
   "source": [
    "#unscaled\n",
    "train.taxvaluedollarcnt.hist()"
   ]
  },
  {
   "cell_type": "code",
   "execution_count": 28,
   "id": "71a89c48-8af2-402f-bba4-23be340eb846",
   "metadata": {},
   "outputs": [
    {
     "data": {
      "text/plain": [
       "<AxesSubplot:>"
      ]
     },
     "execution_count": 28,
     "metadata": {},
     "output_type": "execute_result"
    },
    {
     "data": {
      "image/png": "[encoded data removed]",
      "text/plain": [
       "<Figure size 432x288 with 1 Axes>"
      ]
     },
     "metadata": {
      "needs_background": "light"
     },
     "output_type": "display_data"
    }
   ],
   "source": [
    "#scaled\n",
    "train_scaled.taxvaluedollarcnt.hist()"
   ]
  },
  {
   "cell_type": "code",
   "execution_count": 51,
   "id": "4189a4c2-45cc-4799-a3dc-ba66d076ff67",
   "metadata": {},
   "outputs": [],
   "source": [
    "scaler = StandardScaler()"
   ]
  },
  {
   "cell_type": "code",
   "execution_count": 52,
   "id": "c1c63680-51aa-47f6-b3e5-ac2639da615e",
   "metadata": {},
   "outputs": [],
   "source": [
    "train_scale = scaler.fit_transform(train)"
   ]
  },
  {
   "cell_type": "code",
   "execution_count": 53,
   "id": "17fa932a-0f96-4c24-bc39-bf1e0eab209c",
   "metadata": {},
   "outputs": [
    {
     "data": {
      "text/html": [
       "<div>\n",
       "<style scoped>\n",
       "    .dataframe tbody tr th:only-of-type {\n",
       "        vertical-align: middle;\n",
       "    }\n",
       "\n",
       "    .dataframe tbody tr th {\n",
       "        vertical-align: top;\n",
       "    }\n",
       "\n",
       "    .dataframe thead th {\n",
       "        text-align: right;\n",
       "    }\n",
       "</style>\n",
       "<table border=\"1\" class=\"dataframe\">\n",
       "  <thead>\n",
       "    <tr style=\"text-align: right;\">\n",
       "      <th></th>\n",
       "      <th>bedroomcnt</th>\n",
       "      <th>bathroomcnt</th>\n",
       "      <th>calculatedfinishedsquarefeet</th>\n",
       "      <th>taxvaluedollarcnt</th>\n",
       "      <th>yearbuilt</th>\n",
       "      <th>taxamount</th>\n",
       "      <th>fips</th>\n",
       "    </tr>\n",
       "  </thead>\n",
       "  <tbody>\n",
       "    <tr>\n",
       "      <th>0</th>\n",
       "      <td>0.728133</td>\n",
       "      <td>-0.279868</td>\n",
       "      <td>-0.146128</td>\n",
       "      <td>-0.201251</td>\n",
       "      <td>-0.298393</td>\n",
       "      <td>-0.166128</td>\n",
       "      <td>3.068826</td>\n",
       "    </tr>\n",
       "    <tr>\n",
       "      <th>1</th>\n",
       "      <td>1.840898</td>\n",
       "      <td>0.229969</td>\n",
       "      <td>0.160555</td>\n",
       "      <td>0.237959</td>\n",
       "      <td>0.111635</td>\n",
       "      <td>0.226144</td>\n",
       "      <td>0.519476</td>\n",
       "    </tr>\n",
       "    <tr>\n",
       "      <th>2</th>\n",
       "      <td>0.728133</td>\n",
       "      <td>-0.279868</td>\n",
       "      <td>-0.382425</td>\n",
       "      <td>0.150085</td>\n",
       "      <td>0.066076</td>\n",
       "      <td>0.089414</td>\n",
       "      <td>0.519476</td>\n",
       "    </tr>\n",
       "    <tr>\n",
       "      <th>3</th>\n",
       "      <td>-0.384632</td>\n",
       "      <td>-1.299543</td>\n",
       "      <td>-0.393199</td>\n",
       "      <td>-0.213360</td>\n",
       "      <td>-1.892943</td>\n",
       "      <td>-0.231078</td>\n",
       "      <td>-0.559094</td>\n",
       "    </tr>\n",
       "    <tr>\n",
       "      <th>4</th>\n",
       "      <td>-0.384632</td>\n",
       "      <td>-0.279868</td>\n",
       "      <td>-0.187067</td>\n",
       "      <td>-0.234487</td>\n",
       "      <td>0.977247</td>\n",
       "      <td>-0.241396</td>\n",
       "      <td>-0.559094</td>\n",
       "    </tr>\n",
       "  </tbody>\n",
       "</table>\n",
       "</div>"
      ],
      "text/plain": [
       "   bedroomcnt  bathroomcnt  calculatedfinishedsquarefeet  taxvaluedollarcnt  \\\n",
       "0    0.728133    -0.279868                     -0.146128          -0.201251   \n",
       "1    1.840898     0.229969                      0.160555           0.237959   \n",
       "2    0.728133    -0.279868                     -0.382425           0.150085   \n",
       "3   -0.384632    -1.299543                     -0.393199          -0.213360   \n",
       "4   -0.384632    -0.279868                     -0.187067          -0.234487   \n",
       "\n",
       "   yearbuilt  taxamount      fips  \n",
       "0  -0.298393  -0.166128  3.068826  \n",
       "1   0.111635   0.226144  0.519476  \n",
       "2   0.066076   0.089414  0.519476  \n",
       "3  -1.892943  -0.231078 -0.559094  \n",
       "4   0.977247  -0.241396 -0.559094  "
      ]
     },
     "execution_count": 53,
     "metadata": {},
     "output_type": "execute_result"
    }
   ],
   "source": [
    "train_scale= pd.DataFrame(train_scale, columns=train.columns)\n",
    "train_scale.head()"
   ]
  },
  {
   "cell_type": "markdown",
   "id": "9c0f7d03-a80d-4b98-a074-8723a8414f9e",
   "metadata": {},
   "source": [
    "Apply the .inverse_transform method to your scaled data. Is the resulting dataset the exact same as the original data?\n"
   ]
  },
  {
   "cell_type": "code",
   "execution_count": 54,
   "id": "e84772a5-eeae-483f-9669-99570a0ce2a6",
   "metadata": {},
   "outputs": [],
   "source": [
    "train_scale = scaler.inverse_transform(train)"
   ]
  },
  {
   "cell_type": "code",
   "execution_count": 55,
   "id": "c257c8f8-db49-4078-b0e7-7c095870e30b",
   "metadata": {},
   "outputs": [],
   "source": [
    "train_scale= pd.DataFrame(train_scale, columns=train.columns)"
   ]
  },
  {
   "cell_type": "code",
   "execution_count": 56,
   "id": "14b6a7b1-0356-4303-8816-e4eaac16e767",
   "metadata": {},
   "outputs": [
    {
     "data": {
      "text/html": [
       "<div>\n",
       "<style scoped>\n",
       "    .dataframe tbody tr th:only-of-type {\n",
       "        vertical-align: middle;\n",
       "    }\n",
       "\n",
       "    .dataframe tbody tr th {\n",
       "        vertical-align: top;\n",
       "    }\n",
       "\n",
       "    .dataframe thead th {\n",
       "        text-align: right;\n",
       "    }\n",
       "</style>\n",
       "<table border=\"1\" class=\"dataframe\">\n",
       "  <thead>\n",
       "    <tr style=\"text-align: right;\">\n",
       "      <th></th>\n",
       "      <th>bedroomcnt</th>\n",
       "      <th>bathroomcnt</th>\n",
       "      <th>calculatedfinishedsquarefeet</th>\n",
       "      <th>taxvaluedollarcnt</th>\n",
       "      <th>yearbuilt</th>\n",
       "      <th>taxamount</th>\n",
       "      <th>fips</th>\n",
       "    </tr>\n",
       "  </thead>\n",
       "  <tbody>\n",
       "    <tr>\n",
       "      <th>0</th>\n",
       "      <td>6.940304</td>\n",
       "      <td>4.235878</td>\n",
       "      <td>2.357695e+06</td>\n",
       "      <td>2.264222e+11</td>\n",
       "      <td>44873.342395</td>\n",
       "      <td>3.471519e+07</td>\n",
       "      <td>130696.678012</td>\n",
       "    </tr>\n",
       "    <tr>\n",
       "      <th>1</th>\n",
       "      <td>7.838967</td>\n",
       "      <td>4.726231</td>\n",
       "      <td>2.952214e+06</td>\n",
       "      <td>4.329848e+11</td>\n",
       "      <td>45070.890290</td>\n",
       "      <td>5.923911e+07</td>\n",
       "      <td>129636.015232</td>\n",
       "    </tr>\n",
       "    <tr>\n",
       "      <th>2</th>\n",
       "      <td>6.940304</td>\n",
       "      <td>4.235878</td>\n",
       "      <td>1.899623e+06</td>\n",
       "      <td>3.916572e+11</td>\n",
       "      <td>45048.940524</td>\n",
       "      <td>5.069106e+07</td>\n",
       "      <td>129636.015232</td>\n",
       "    </tr>\n",
       "    <tr>\n",
       "      <th>3</th>\n",
       "      <td>6.041642</td>\n",
       "      <td>3.255173</td>\n",
       "      <td>1.878738e+06</td>\n",
       "      <td>2.207274e+11</td>\n",
       "      <td>44105.100581</td>\n",
       "      <td>3.065464e+07</td>\n",
       "      <td>129187.273287</td>\n",
       "    </tr>\n",
       "    <tr>\n",
       "      <th>4</th>\n",
       "      <td>6.041642</td>\n",
       "      <td>4.235878</td>\n",
       "      <td>2.278333e+06</td>\n",
       "      <td>2.107910e+11</td>\n",
       "      <td>45487.935846</td>\n",
       "      <td>3.000961e+07</td>\n",
       "      <td>129187.273287</td>\n",
       "    </tr>\n",
       "  </tbody>\n",
       "</table>\n",
       "</div>"
      ],
      "text/plain": [
       "   bedroomcnt  bathroomcnt  calculatedfinishedsquarefeet  taxvaluedollarcnt  \\\n",
       "0    6.940304     4.235878                  2.357695e+06       2.264222e+11   \n",
       "1    7.838967     4.726231                  2.952214e+06       4.329848e+11   \n",
       "2    6.940304     4.235878                  1.899623e+06       3.916572e+11   \n",
       "3    6.041642     3.255173                  1.878738e+06       2.207274e+11   \n",
       "4    6.041642     4.235878                  2.278333e+06       2.107910e+11   \n",
       "\n",
       "      yearbuilt     taxamount           fips  \n",
       "0  44873.342395  3.471519e+07  130696.678012  \n",
       "1  45070.890290  5.923911e+07  129636.015232  \n",
       "2  45048.940524  5.069106e+07  129636.015232  \n",
       "3  44105.100581  3.065464e+07  129187.273287  \n",
       "4  45487.935846  3.000961e+07  129187.273287  "
      ]
     },
     "execution_count": 56,
     "metadata": {},
     "output_type": "execute_result"
    }
   ],
   "source": [
    "train_scale.head()"
   ]
  },
  {
   "cell_type": "markdown",
   "id": "2f753496-f095-417d-8ee3-9775344c7ab1",
   "metadata": {},
   "source": [
    "Read the documentation for sklearn's QuantileTransformer. Use normal for the output_distribution and apply this scaler to your data. Visualize the result of your data scaling."
   ]
  },
  {
   "cell_type": "code",
   "execution_count": null,
   "id": "123cb676-f73b-4344-b311-909dce286530",
   "metadata": {},
   "outputs": [],
   "source": []
  },
  {
   "cell_type": "markdown",
   "id": "0e6ad3e0-508a-4eaa-875e-ab9af6790b77",
   "metadata": {},
   "source": [
    "Use the QuantileTransformer, but omit the output_distribution argument. Visualize your results. What do you notice?"
   ]
  },
  {
   "cell_type": "code",
   "execution_count": null,
   "id": "2e25b543-2020-4949-a598-e2262144458e",
   "metadata": {},
   "outputs": [],
   "source": []
  },
  {
   "cell_type": "markdown",
   "id": "668caffe-6c66-4fa7-93ec-2e612723c29e",
   "metadata": {},
   "source": [
    "Based on the work you've done, choose a scaling method for your dataset. Write a function within your prepare.py that accepts as input the train, validate, and test data splits, and returns the scaled versions of each. Be sure to only learn the parameters for scaling from your training data!"
   ]
  },
  {
   "cell_type": "code",
   "execution_count": 57,
   "id": "40907a5d-dde3-401a-8570-64d64472ed65",
   "metadata": {},
   "outputs": [],
   "source": [
    "def scaled_df ( train_df , validate_df, test_df, scaler):\n",
    "    '''\n",
    "    Take in a 3 df and a type of scaler that you  want to  use. it will scale all columns\n",
    "    except object type. Fit a scaler only in train and tramnsform in train, validate and test.\n",
    "    returns  new dfs with the scaled columns.\n",
    "    scaler : MinMaxScaler() or RobustScaler(), StandardScaler() \n",
    "    Example:\n",
    "    scaled_df( X_train , X_validate , X_test, RobustScaler())\n",
    "    \n",
    "    '''\n",
    "    #get all columns except object type\n",
    "    columns = train_df.select_dtypes(exclude='object').columns.tolist()\n",
    "    \n",
    "    # fit our scaler\n",
    "    scaler.fit(train_df[columns])\n",
    "    # get our scaled arrays\n",
    "    train_scaled = scaler.transform(train_df[columns])\n",
    "    validate_scaled= scaler.transform(validate_df[columns])\n",
    "    test_scaled= scaler.transform(test_df[columns])\n",
    "\n",
    "    # convert arrays to dataframes\n",
    "    train_scaled_df = pd.DataFrame(train_scaled, columns=columns).set_index([train_df.index.values])\n",
    "    validate_scaled_df = pd.DataFrame(validate_scaled, columns=columns).set_index([validate_df.index.values])\n",
    "    test_scaled_df = pd.DataFrame(test_scaled, columns=columns).set_index([test_df.index.values])\n",
    "\n",
    "    #plot\n",
    "    for col in columns: \n",
    "        plt.figure(figsize=(13, 6))\n",
    "        plt.subplot(121)\n",
    "        plt.hist(train_df[col], ec='black')\n",
    "        plt.title('Original')\n",
    "        plt.xlabel(col)\n",
    "        plt.ylabel(\"counts\")\n",
    "        plt.subplot(122)\n",
    "        plt.hist(train_scaled_df[col],  ec='black')\n",
    "        plt.title('Scaled')\n",
    "        plt.xlabel(col)\n",
    "        plt.ylabel(\"counts\")\n",
    "\n",
    "\n",
    "\n",
    "    return train_scaled_df, validate_scaled_df, test_scaled_df"
   ]
  },
  {
   "cell_type": "code",
   "execution_count": 58,
   "id": "13f29d19-a9c3-4d99-858a-656ce4430e06",
   "metadata": {},
   "outputs": [],
   "source": [
    "scaler = MinMaxScaler()"
   ]
  },
  {
   "cell_type": "code",
   "execution_count": 59,
   "id": "29dcc1ce-b36e-4469-a1e5-7492774735a0",
   "metadata": {},
   "outputs": [
    {
     "data": {
      "text/plain": [
       "(         bedroomcnt  bathroomcnt  calculatedfinishedsquarefeet  \\\n",
       " 775411     0.222222        0.100                      0.000937   \n",
       " 1160935    0.277778        0.125                      0.001386   \n",
       " 1558975    0.222222        0.100                      0.000592   \n",
       " 2049378    0.166667        0.050                      0.000576   \n",
       " 1250609    0.166667        0.100                      0.000877   \n",
       " ...             ...          ...                           ...   \n",
       " 1458442    0.166667        0.100                      0.000841   \n",
       " 889840     0.222222        0.100                      0.000822   \n",
       " 554380     0.222222        0.150                      0.001765   \n",
       " 570725     0.277778        0.275                      0.003671   \n",
       " 1769311    0.111111        0.100                      0.000244   \n",
       " \n",
       "          taxvaluedollarcnt  yearbuilt  taxamount      fips  \n",
       " 775411            0.003751   0.716279   0.004155  1.000000  \n",
       " 1160935           0.007173   0.758140   0.007103  0.297297  \n",
       " 1558975           0.006488   0.753488   0.006075  0.297297  \n",
       " 2049378           0.003656   0.553488   0.003667  0.000000  \n",
       " 1250609           0.003492   0.846512   0.003589  0.000000  \n",
       " ...                    ...        ...        ...       ...  \n",
       " 1458442           0.002207   0.734884   0.002448  0.000000  \n",
       " 889840            0.003809   0.818605   0.003987  0.000000  \n",
       " 554380            0.002930   0.786047   0.002936  0.000000  \n",
       " 570725            0.009646   0.995349   0.008988  0.297297  \n",
       " 1769311           0.001446   0.683721   0.001808  0.000000  \n",
       " \n",
       " [1161886 rows x 7 columns],\n",
       "          bedroomcnt  bathroomcnt  calculatedfinishedsquarefeet  \\\n",
       " 1923870    0.166667        0.075                      0.000829   \n",
       " 1678877    0.222222        0.150                      0.002292   \n",
       " 1691515    0.166667        0.100                      0.000256   \n",
       " 473174     0.111111        0.100                      0.000739   \n",
       " 1057484    0.166667        0.100                      0.000524   \n",
       " ...             ...          ...                           ...   \n",
       " 174247     0.222222        0.100                      0.001080   \n",
       " 1604936    0.222222        0.125                      0.001849   \n",
       " 695585     0.222222        0.100                      0.001086   \n",
       " 1539934    0.222222        0.150                      0.002320   \n",
       " 2092855    0.111111        0.100                      0.000515   \n",
       " \n",
       "          taxvaluedollarcnt  yearbuilt  taxamount      fips  \n",
       " 1923870           0.003392   0.697674   0.003404  0.297297  \n",
       " 1678877           0.005636   0.930233   0.006452  0.000000  \n",
       " 1691515           0.002925   0.711628   0.002992  0.000000  \n",
       " 473174            0.004689   0.827907   0.003970  0.297297  \n",
       " 1057484           0.001475   0.851163   0.002300  0.000000  \n",
       " ...                    ...        ...        ...       ...  \n",
       " 174247            0.000726   0.711628   0.000790  0.000000  \n",
       " 1604936           0.006820   0.865116   0.006417  1.000000  \n",
       " 695585            0.004191   0.762791   0.004431  0.000000  \n",
       " 1539934           0.006677   0.995349   0.006004  1.000000  \n",
       " 2092855           0.001063   0.646512   0.001140  0.000000  \n",
       " \n",
       " [497952 rows x 7 columns],\n",
       "          bedroomcnt  bathroomcnt  calculatedfinishedsquarefeet  \\\n",
       " 1882059    0.166667        0.125                      0.001272   \n",
       " 84044      0.222222        0.125                      0.001625   \n",
       " 1858206    0.222222        0.100                      0.001412   \n",
       " 1797882    0.166667        0.050                      0.000260   \n",
       " 1705079    0.111111        0.100                      0.000712   \n",
       " ...             ...          ...                           ...   \n",
       " 167038     0.222222        0.100                      0.000751   \n",
       " 850119     0.166667        0.125                      0.000770   \n",
       " 1743556    0.277778        0.150                      0.002306   \n",
       " 1626472    0.222222        0.175                      0.001744   \n",
       " 545113     0.166667        0.100                      0.000258   \n",
       " \n",
       "          taxvaluedollarcnt  yearbuilt  taxamount      fips  \n",
       " 1882059           0.003833   0.753488   0.003786  0.297297  \n",
       " 84044             0.001647   0.800000   0.006166  0.297297  \n",
       " 1858206           0.003608   0.818605   0.003872  0.000000  \n",
       " 1797882           0.002638   0.720930   0.002890  0.297297  \n",
       " 1705079           0.015082   0.646512   0.015139  0.000000  \n",
       " ...                    ...        ...        ...       ...  \n",
       " 167038            0.006677   0.790698   0.006478  0.000000  \n",
       " 850119            0.002553   0.925581   0.002846  0.297297  \n",
       " 1743556           0.010558   0.925581   0.008775  0.297297  \n",
       " 1626472           0.001078   0.776744   0.001309  1.000000  \n",
       " 545113            0.002543   0.851163   0.002859  0.000000  \n",
       " \n",
       " [414960 rows x 7 columns])"
      ]
     },
     "execution_count": 59,
     "metadata": {},
     "output_type": "execute_result"
    },
    {
     "data": {
      "image/png": "[encoded data removed]",
      "text/plain": [
       "<Figure size 936x432 with 2 Axes>"
      ]
     },
     "metadata": {
      "needs_background": "light"
     },
     "output_type": "display_data"
    },
    {
     "data": {
      "image/png": "[encoded data removed]",
      "text/plain": [
       "<Figure size 936x432 with 2 Axes>"
      ]
     },
     "metadata": {
      "needs_background": "light"
     },
     "output_type": "display_data"
    },
    {
     "data": {
      "image/png": "[encoded data removed]",
      "text/plain": [
       "<Figure size 936x432 with 2 Axes>"
      ]
     },
     "metadata": {
      "needs_background": "light"
     },
     "output_type": "display_data"
    },
    {
     "data": {
      "image/png": "[encoded data removed]",
      "text/plain": [
       "<Figure size 936x432 with 2 Axes>"
      ]
     },
     "metadata": {
      "needs_background": "light"
     },
     "output_type": "display_data"
    },
    {
     "data": {
      "image/png": "[encoded data removed]",
      "text/plain": [
       "<Figure size 936x432 with 2 Axes>"
      ]
     },
     "metadata": {
      "needs_background": "light"
     },
     "output_type": "display_data"
    },
    {
     "data": {
      "image/png": "[encoded data removed]",
      "text/plain": [
       "<Figure size 936x432 with 2 Axes>"
      ]
     },
     "metadata": {
      "needs_background": "light"
     },
     "output_type": "display_data"
    },
    {
     "data": {
      "image/png": "[encoded data removed]",
      "text/plain": [
       "<Figure size 936x432 with 2 Axes>"
      ]
     },
     "metadata": {
      "needs_background": "light"
     },
     "output_type": "display_data"
    }
   ],
   "source": [
    "scaled_df(train, validate, test, scaler)"
   ]
  },
  {
   "cell_type": "code",
   "execution_count": null,
   "id": "7cbb40e2-6974-4052-af79-1720c40cdae0",
   "metadata": {},
   "outputs": [],
   "source": []
  }
 ],
 "metadata": {
  "kernelspec": {
   "display_name": "Python 3 (ipykernel)",
   "language": "python",
   "name": "python3"
  },
  "language_info": {
   "codemirror_mode": {
    "name": "ipython",
    "version": 3
   },
   "file_extension": ".py",
   "mimetype": "text/x-python",
   "name": "python",
   "nbconvert_exporter": "python",
   "pygments_lexer": "ipython3",
   "version": "3.9.7"
  }
 },
 "nbformat": 4,
 "nbformat_minor": 5
}
