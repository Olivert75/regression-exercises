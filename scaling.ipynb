{
 "cells": [
  {
   "cell_type": "code",
   "execution_count": 1,
   "id": "8055c616-2349-4be7-85a3-aff6aac2fda4",
   "metadata": {},
   "outputs": [],
   "source": [
    "import warnings\n",
    "warnings.filterwarnings(\"ignore\")\n",
    "\n",
    "import pandas as pd\n",
    "import matplotlib.pyplot as plt\n",
    "import seaborn as sns\n",
    "import numpy as np\n",
    "from sklearn.model_selection import train_test_split\n",
    "from scipy import stats\n",
    "from sklearn.preprocessing import MinMaxScaler, RobustScaler, StandardScaler, QuantileTransformer\n",
    "\n",
    "#import my modules\n",
    "import acquire \n",
    "import prepare \n",
    "import wrangle "
   ]
  },
  {
   "cell_type": "markdown",
   "id": "ced7f754-eae8-4a02-9e2e-9d38cfb54477",
   "metadata": {},
   "source": [
    "Do your work for these exercises in a jupyter notebook named scaling. Use the zillow dataset you acquired and prepped in previous lesson. Once you are finished, you may wish to repeat the exercises on another dataset for additional practice.\n",
    "\n",
    "Apply the scalers we talked about in this lesson to your data and visualize the results for the unscaled and scaled distribution .\n"
   ]
  },
  {
   "cell_type": "code",
   "execution_count": null,
   "id": "ad9b2ca9-7882-4aa2-aa34-5a32ff7a5d31",
   "metadata": {},
   "outputs": [],
   "source": []
  },
  {
   "cell_type": "code",
   "execution_count": null,
   "id": "1625b531-e52c-40af-8e61-587e34b83224",
   "metadata": {},
   "outputs": [],
   "source": []
  },
  {
   "cell_type": "code",
   "execution_count": null,
   "id": "e84772a5-eeae-483f-9669-99570a0ce2a6",
   "metadata": {},
   "outputs": [],
   "source": []
  }
 ],
 "metadata": {
  "kernelspec": {
   "display_name": "Python 3 (ipykernel)",
   "language": "python",
   "name": "python3"
  },
  "language_info": {
   "codemirror_mode": {
    "name": "ipython",
    "version": 3
   },
   "file_extension": ".py",
   "mimetype": "text/x-python",
   "name": "python",
   "nbconvert_exporter": "python",
   "pygments_lexer": "ipython3",
   "version": "3.9.7"
  }
 },
 "nbformat": 4,
 "nbformat_minor": 5
}
